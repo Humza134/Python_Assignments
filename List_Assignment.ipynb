{
  "nbformat": 4,
  "nbformat_minor": 0,
  "metadata": {
    "colab": {
      "provenance": [],
      "authorship_tag": "ABX9TyOC841IXTVZ90+kTecnHSsO",
      "include_colab_link": true
    },
    "kernelspec": {
      "name": "python3",
      "display_name": "Python 3"
    },
    "language_info": {
      "name": "python"
    }
  },
  "cells": [
    {
      "cell_type": "markdown",
      "metadata": {
        "id": "view-in-github",
        "colab_type": "text"
      },
      "source": [
        "<a href=\"https://colab.research.google.com/github/Humza134/Python_Assignments/blob/main/List_Assignment.ipynb\" target=\"_parent\"><img src=\"https://colab.research.google.com/assets/colab-badge.svg\" alt=\"Open In Colab\"/></a>"
      ]
    },
    {
      "cell_type": "markdown",
      "source": [
        "**1.** Write a program that accepts a list from user and print the alternate element of list."
      ],
      "metadata": {
        "id": "RYXFw3bcqfjx"
      }
    },
    {
      "cell_type": "code",
      "execution_count": null,
      "metadata": {
        "id": "Q6R4tx5tqYX2"
      },
      "outputs": [],
      "source": [
        "user_input = input(\"Enter a list of elements (space-separated): \")\n",
        "\n",
        "alternate_elements = user_input.split()\n",
        "\n",
        "print(\"Alternate elements of the list:\", alternate_elements)"
      ]
    },
    {
      "cell_type": "markdown",
      "source": [
        "**2.** Write a program that accepts a list from user. Your program should reverse the content of list and\n",
        "display it. Do not use reverse() method."
      ],
      "metadata": {
        "id": "Udp4_rV7qidP"
      }
    },
    {
      "cell_type": "code",
      "source": [
        "user_input = input(\"Enter a list of elements (space-separated): \")\n",
        "\n",
        "input_list = [int(x) for x in user_input.split()]\n",
        "print(input_list)\n",
        "\n",
        "# Reversing the list using a loop\n",
        "# reversed_list = []\n",
        "# for item in input_list:\n",
        "#     reversed_list.insert(0, item)\n",
        "\n",
        "# # Display the reversed list\n",
        "# print(\"Reversed list:\", reversed_list)\n",
        "\n",
        "revresed_list = input_list[::-1]\n",
        "print(revresed_list)"
      ],
      "metadata": {
        "id": "yrnEKKn-qk87"
      },
      "execution_count": null,
      "outputs": []
    },
    {
      "cell_type": "markdown",
      "source": [
        "**3.** Find and display the largest number of a list without using built-in function max(). Your program\n",
        "should ask the user to input values in list from keyboard."
      ],
      "metadata": {
        "id": "DFJ5sN9aqnnJ"
      }
    },
    {
      "cell_type": "code",
      "source": [
        "user_input = input(\"Enter a list of numbers (space-separated): \")\n",
        "\n",
        "input_list = [int(x) for x in user_input.split()]\n",
        "\n",
        "largest_number = input_list[0]\n",
        "\n",
        "for num in input_list:\n",
        "  if num > largest_number:\n",
        "    largest_number = num\n",
        "print(f\"Largest number in list: {largest_number}\")"
      ],
      "metadata": {
        "id": "3lsC5tmaqqa5"
      },
      "execution_count": null,
      "outputs": []
    },
    {
      "cell_type": "markdown",
      "source": [
        "**4.** Write a program that rotates the element of a list so that the element at the first index moves to the\n",
        "second index, the element in the second index moves to the third index, etc., and the element in the last\n",
        "index moves to the first index."
      ],
      "metadata": {
        "id": "3RI3XlVCqtrZ"
      }
    },
    {
      "cell_type": "code",
      "source": [
        "user_input = input(\"Enter a list of elements (space-separated): \")\n",
        "\n",
        "input_list = user_input.split()\n",
        "\n",
        "roatated_list = input_list[1:] + [input_list[0]]\n",
        "print(roatated_list)\n",
        "\n",
        "# input_list = [int(x) for x in user_input.split()]\n",
        "\n",
        "# rotated_list = input_list[1:] + [input_list[0]]\n",
        "\n",
        "# print(\"Rotated list:\", rotated_list)"
      ],
      "metadata": {
        "id": "nISjcbz6qwFm"
      },
      "execution_count": null,
      "outputs": []
    },
    {
      "cell_type": "markdown",
      "source": [
        "**5.** Write a program that input a string and ask user to delete a given word from a string."
      ],
      "metadata": {
        "id": "L57NbZFnq0H4"
      }
    },
    {
      "cell_type": "code",
      "source": [
        "user_input = input(\"Enter a string: \")\n",
        "\n",
        "word_to_delete = input(\"Enter the word to delete: \")\n",
        "\n",
        "modified_string = user_input.replace(word_to_delete, \"\")\n",
        "\n",
        "print(\"Modified string:\", modified_string)"
      ],
      "metadata": {
        "id": "CXPoGWnhq2uZ"
      },
      "execution_count": null,
      "outputs": []
    },
    {
      "cell_type": "markdown",
      "source": [
        "**6.** Write a program that reads a string from the user containing a date in the form mm/dd/yyyy. It\n",
        "should print the date in the form March 12, 2021."
      ],
      "metadata": {
        "id": "rXgGkp6rq5QW"
      }
    },
    {
      "cell_type": "code",
      "source": [
        "date_input = input(\"Enter a date in mm/dd/yyyy format: \")\n",
        "\n",
        "# Split the input into month, day, and year\n",
        "month, day, year = date_input.split('/')\n",
        "\n",
        "# Convert month number to month name\n",
        "month_names = [\n",
        "    \"January\", \"February\", \"March\", \"April\", \"May\", \"June\", \"July\", \"August\", \"September\",\n",
        "    \"October\", \"November\", \"December\"\n",
        "]\n",
        "month_name = month_names[int(month) - 1]  # Convert the month number to the corresponding month name\n",
        "\n",
        "# Print the date in the required format\n",
        "print(f\"{month_name} {int(day)}, {year}\")\n"
      ],
      "metadata": {
        "id": "EwXYnxeWq7Hi"
      },
      "execution_count": null,
      "outputs": []
    },
    {
      "cell_type": "markdown",
      "source": [
        "**7.** Write a program with a function that accepts a string from keyboard and create a new string after\n",
        "converting character of each word capitalized. For instance, if the sentence is \"stop and smell the roses.\"\n",
        "the output should be \"Stop And Smell The Roses\""
      ],
      "metadata": {
        "id": "P6CR6xvRq_UR"
      }
    },
    {
      "cell_type": "code",
      "source": [
        "def capitalize_words(sentence):\n",
        "    words = sentence.split()\n",
        "    print(words)\n",
        "    capitalized_words = [word.capitalize() for word in words]\n",
        "    print(capitalized_words)\n",
        "    capitalized_sentence = ' '.join(capitalized_words)\n",
        "    return capitalized_sentence\n",
        "result = capitalize_words(\"stop and smell the roses.\")\n",
        "print(result)"
      ],
      "metadata": {
        "id": "JB9qCuMYrCjT"
      },
      "execution_count": null,
      "outputs": []
    },
    {
      "cell_type": "markdown",
      "source": [
        "**8.** Find the sum of each row of matrix of size m x n. For example for the following matrix output will be\n",
        "like this :\n",
        "\n",
        "Sum of row 1 = 32\n",
        "\n",
        "Sum of row 2 = 31\n",
        "\n",
        "Sum of row 3 = 63"
      ],
      "metadata": {
        "id": "6PAb_9wHrF2y"
      }
    },
    {
      "cell_type": "code",
      "source": [
        "matrix = [\n",
        "    [5, 7, 8, 12],  # Row 1\n",
        "    [10, 4, 8, 9],   # Row 2\n",
        "    [14, 12, 17, 20] # Row 3\n",
        "]\n",
        "\n",
        "for i, row in enumerate(matrix, start=1):\n",
        "  row_sum = sum(row)\n",
        "  print(f\"Sum of row {i} = {row_sum}\")"
      ],
      "metadata": {
        "id": "CXBKyp4SrIKY"
      },
      "execution_count": null,
      "outputs": []
    },
    {
      "cell_type": "code",
      "source": [
        "def sum_matrix(matrix):\n",
        "  row_sum_list = []\n",
        "  for i, row in enumerate(matrix, start=1):\n",
        "    row_sum = 0\n",
        "    for num in row:\n",
        "      row_sum +=num\n",
        "    print(f\"Sum of row {i} = {row_sum}\")\n",
        "    row_sum_list.append(row_sum)\n",
        "  return row_sum_list\n",
        "\n",
        "matrix = [\n",
        "    [5, 7, 8, 12],  # Row 1\n",
        "    [10, 4, 8, 9],   # Row 2\n",
        "    [14, 12, 17, 20] # Row 3\n",
        "]\n",
        "result = sum_matrix(matrix)\n",
        "print(result)"
      ],
      "metadata": {
        "id": "dRrPDlYtrLnl"
      },
      "execution_count": null,
      "outputs": []
    },
    {
      "cell_type": "markdown",
      "source": [
        "**9.**Write a program to add two matrices of size n x m."
      ],
      "metadata": {
        "id": "U_zCDUKDrQpE"
      }
    },
    {
      "cell_type": "code",
      "source": [
        "# Function to add two matrices\n",
        "def add_matrices(matrix1, matrix2):\n",
        "    # Ensure both matrices have the same size\n",
        "    if len(matrix1) != len(matrix2) or len(matrix1[0]) != len(matrix2[0]):\n",
        "        raise ValueError(\"Matrices must have the same dimensions for addition\")\n",
        "\n",
        "    # Create a result matrix to store the sum\n",
        "    result_matrix = []\n",
        "\n",
        "    for i in range(len(matrix1)):  # Iterate over rows\n",
        "        print(\"i: \", i)\n",
        "        row_sum = []\n",
        "        for j in range(len(matrix1[0])):  # Iterate over columns\n",
        "            print(\"j: \", j)\n",
        "            row_sum.append(matrix1[i][j] + matrix2[i][j])  # Add corresponding elements\n",
        "        result_matrix.append(row_sum)\n",
        "\n",
        "    return result_matrix\n",
        "\n",
        "# Example input\n",
        "matrix1 = [\n",
        "    [4, 6, 8],\n",
        "    [9, 6, 0]\n",
        "]\n",
        "matrix2 = [\n",
        "    [3, 5, 1],\n",
        "    [2, 5, 7]\n",
        "]\n",
        "\n",
        "# Add the matrices\n",
        "sum_matrix = add_matrices(matrix1, matrix2)\n",
        "\n",
        "# Print the result\n",
        "print(\"Sum of matrices:\")\n",
        "for row in sum_matrix:\n",
        "    print(row)\n"
      ],
      "metadata": {
        "id": "ANKTcywwrRIR"
      },
      "execution_count": null,
      "outputs": []
    },
    {
      "cell_type": "markdown",
      "source": [
        "**10.** Write a program to multiply two matrices"
      ],
      "metadata": {
        "id": "m6BFVMSLrUZk"
      }
    },
    {
      "cell_type": "code",
      "source": [
        "matrix1 = [\n",
        "    [1, 2, 3],  # Row 1\n",
        "    [4, 5, 6],  # Row 2\n",
        "    [7, 8, 9]   # Row 3\n",
        "]\n",
        "\n",
        "matrix2 = [\n",
        "    [9, 8, 7],  # Column 1\n",
        "    [6, 5, 4],  # Column 2\n",
        "    [3, 2, 1]   # Column 3\n",
        "]\n",
        "\n",
        "row_matrix1 = len(matrix1)\n",
        "print(row_matrix1)\n",
        "\n",
        "cols_matrix1 = len(matrix1[0])\n",
        "print(cols_matrix1)\n",
        "cols_matrix11 = (matrix1[0])\n",
        "print(cols_matrix11)\n",
        "\n",
        "for i in cols_matrix11:\n",
        "  print(i)"
      ],
      "metadata": {
        "id": "uXt6EceIrWsv"
      },
      "execution_count": null,
      "outputs": []
    },
    {
      "cell_type": "code",
      "source": [
        "# Input matrices\n",
        "matrix1 = [\n",
        "    [1, 2, 3],  # Row 1\n",
        "    [4, 5, 6],  # Row 2\n",
        "    [7, 8, 9]   # Row 3\n",
        "]\n",
        "\n",
        "matrix2 = [\n",
        "    [9, 8, 7],  # Column 1\n",
        "    [6, 5, 4],  # Column 2\n",
        "    [3, 2, 1]   # Column 3\n",
        "]\n",
        "\n",
        "# Number of rows and columns\n",
        "rows_matrix1 = len(matrix1)\n",
        "cols_matrix1 = len(matrix1[0])\n",
        "rows_matrix2 = len(matrix2)\n",
        "cols_matrix2 = len(matrix2[0])\n",
        "\n",
        "# Check if multiplication is possible (columns of matrix1 should equal rows of matrix2)\n",
        "if cols_matrix1 != rows_matrix2:\n",
        "    print(\"Matrix multiplication is not possible\")\n",
        "else:\n",
        "    # Initialize the result matrix with zeros\n",
        "    result_matrix = [[0 for _ in range(cols_matrix2)] for _ in range(rows_matrix1)]\n",
        "    print(result_matrix)\n",
        "\n",
        "    # Matrix multiplication\n",
        "    for i in range(rows_matrix1):  # Iterate over rows of matrix1\n",
        "        print(f\"Row of matrix1: {i}\")\n",
        "        for j in range(cols_matrix2): # Iterate over columns of matrix2\n",
        "            print(f\"Cols of matrix2: {j}\")\n",
        "            for k in range(cols_matrix1): # Multiply corresponding elements\n",
        "                print(\"K\", k)\n",
        "                result_matrix[i][j] += matrix1[i][k] * matrix2[k][j]\n",
        "\n",
        "    # Print the result matrix\n",
        "    print(\"Product of matrices:\")\n",
        "    for row in result_matrix:\n",
        "        print(row)\n"
      ],
      "metadata": {
        "id": "H6KFgQ2DrcGi"
      },
      "execution_count": null,
      "outputs": []
    }
  ]
}