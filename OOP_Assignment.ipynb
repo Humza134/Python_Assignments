{
  "nbformat": 4,
  "nbformat_minor": 0,
  "metadata": {
    "colab": {
      "provenance": [],
      "authorship_tag": "ABX9TyPOCY8jfhx02PTkizIcp2Jy"
    },
    "kernelspec": {
      "name": "python3",
      "display_name": "Python 3"
    },
    "language_info": {
      "name": "python"
    }
  },
  "cells": [
    {
      "cell_type": "markdown",
      "source": [
        "**1.** Write a Python program to create a class called \"Person\" with properties for\n",
        "name, age and country. Include a method to display the person's details. Create\n",
        "two instances of the 'Person' class and display their details.\n"
      ],
      "metadata": {
        "id": "JMU7UAYbZ6X5"
      }
    },
    {
      "cell_type": "code",
      "execution_count": 1,
      "metadata": {
        "id": "UOXThK8eZpUT"
      },
      "outputs": [],
      "source": [
        "class Person:\n",
        "    def __init__(self, name:str, age:int):\n",
        "        self.__name = name\n",
        "        self.__age = age\n",
        "\n",
        "    def myfunc(self):\n",
        "        print(\"Hello my name is \" + self.__name + \" and I am \" + str(self.__age))"
      ]
    },
    {
      "cell_type": "code",
      "source": [
        "p1 = Person(\"Hamza\", 23)"
      ],
      "metadata": {
        "id": "WZsX2XHfaWiH"
      },
      "execution_count": 2,
      "outputs": []
    },
    {
      "cell_type": "code",
      "source": [
        "p1.myfunc()"
      ],
      "metadata": {
        "colab": {
          "base_uri": "https://localhost:8080/"
        },
        "id": "DMzZ8UI9atLO",
        "outputId": "652ff6cd-d6e9-43da-9627-5d87cfc0b423"
      },
      "execution_count": 3,
      "outputs": [
        {
          "output_type": "stream",
          "name": "stdout",
          "text": [
            "Hello my name is Hamza and I am 23\n"
          ]
        }
      ]
    },
    {
      "cell_type": "markdown",
      "source": [
        "**2.** Write a Python program to create a class called 'Rectangle' with properties for\n",
        "width and height. Include two methods to calculate rectangle area and perimeter.\n",
        "Create an instance of the 'Rectangle' class and calculate its area and perimeter.\n"
      ],
      "metadata": {
        "id": "XiERcSQba3Jd"
      }
    },
    {
      "cell_type": "code",
      "source": [
        "class Rectangle:\n",
        "    def __init__(self, width:int, height:int):\n",
        "        self.width = width\n",
        "        self.height = height\n",
        "\n",
        "    def area(self):\n",
        "        return self.width * self.height\n",
        "\n",
        "    def perimeter(self):\n",
        "        return 2 * (self.width + self.height)\n",
        "\n",
        "rectangle = Rectangle(5, 10)\n",
        "\n",
        "print(f\"Area of the rectangle: {rectangle.area()}\")\n",
        "print(f\"Perimeter of the rectangle: {rectangle.perimeter()}\")"
      ],
      "metadata": {
        "colab": {
          "base_uri": "https://localhost:8080/"
        },
        "id": "TGZrfm-Dax1I",
        "outputId": "cce59468-25af-4303-af5c-d42322b291a4"
      },
      "execution_count": 4,
      "outputs": [
        {
          "output_type": "stream",
          "name": "stdout",
          "text": [
            "Area of the rectangle: 50\n",
            "Perimeter of the rectangle: 30\n"
          ]
        }
      ]
    },
    {
      "cell_type": "markdown",
      "source": [
        "**3.** Write a Python program that creates a class called 'Vehicle' with properties for\n",
        "make, model, and year. Include a method to display vehicle details. Create a\n",
        "subclass called 'Car' that inherits from the 'Vehicle' class and includes an\n",
        "additional property for the number of doors. Override the display method to\n",
        "include the number of doors."
      ],
      "metadata": {
        "id": "UVVUlxXwbVp7"
      }
    },
    {
      "cell_type": "code",
      "source": [
        "class Vehicle:\n",
        "    def __init__(self, make:str, model:str, year:int):\n",
        "        self.__make = make\n",
        "        self.__model = model\n",
        "        self.__year = year\n",
        "\n",
        "    def display(self):\n",
        "        return f\"Make: {self.__make}, Model: {self.__model}, Year: {self.__year}\"\n",
        "\n",
        "\n",
        "class Car(Vehicle):\n",
        "    def __init__(self, make:str, model:str, year:int, doors:int):\n",
        "        super().__init__(make, model, year)\n",
        "        self.__doors = doors\n",
        "\n",
        "    def display(self):\n",
        "        vehicle_details = super().display()\n",
        "        return f\"{vehicle_details}, Doors: {self.__doors}\"\n",
        "\n",
        "\n",
        "# Create an instance of the Car class\n",
        "car = Car(\"Toyota\", \"Corolla\", 2021, 4)\n",
        "\n",
        "# Display the details of the car\n",
        "print(car.display())"
      ],
      "metadata": {
        "id": "TWnXtuEKbQPm",
        "colab": {
          "base_uri": "https://localhost:8080/"
        },
        "outputId": "74a55d2a-ab72-4d62-a068-4f8cc7e82f6a"
      },
      "execution_count": 5,
      "outputs": [
        {
          "output_type": "stream",
          "name": "stdout",
          "text": [
            "Make: Toyota, Model: Corolla, Year: 2021, Doors: 4\n"
          ]
        }
      ]
    },
    {
      "cell_type": "markdown",
      "source": [
        "**4.** Write a Python program that creates a class called \"BankAccount\" with\n",
        "properties for account number and balance. Include methods to deposit and\n",
        "withdraw money from the account. Create some instances of the \"BankAccount\"\n",
        "class, deposit some money, and withdraw a portion of it."
      ],
      "metadata": {
        "id": "8qUyA7dIBxvK"
      }
    },
    {
      "cell_type": "code",
      "source": [
        "class BankAccount:\n",
        "    def __init__(self, account_number:int, balance=0.0):\n",
        "        \"\"\"\n",
        "        Initialize the bank account with an account number and an optional balance (default is 0.0).\n",
        "        \"\"\"\n",
        "        self.account_number = account_number\n",
        "        self.balance = balance\n",
        "\n",
        "    def deposit(self, amount):\n",
        "        \"\"\"\n",
        "        Deposit money into the account.\n",
        "        \"\"\"\n",
        "        if amount > 0:\n",
        "            self.balance += amount\n",
        "            print(f\"Deposited ${amount:.2f} into account {self.account_number}.\")\n",
        "        else:\n",
        "            print(\"Deposit amount must be positive.\")\n",
        "\n",
        "    def withdraw(self, amount):\n",
        "        \"\"\"\n",
        "        Withdraw money from the account.\n",
        "        \"\"\"\n",
        "        if amount > 0:\n",
        "            if amount <= self.balance:\n",
        "                self.balance -= amount\n",
        "                print(f\"Withdrew ${amount:.2f} from account {self.account_number}.\")\n",
        "            else:\n",
        "                print(\"Insufficient funds.\")\n",
        "        else:\n",
        "            print(\"Withdrawal amount must be positive.\")\n",
        "\n",
        "    def display_balance(self):\n",
        "        \"\"\"\n",
        "        Display the current balance of the account.\n",
        "        \"\"\"\n",
        "        print(f\"Account {self.account_number} balance: ${self.balance:.2f}\")\n",
        "\n",
        "\n",
        "# Create instances of the BankAccount class\n",
        "account1 = BankAccount(\"1234\", 500.0)\n",
        "account2 = BankAccount(\"5678\")\n",
        "\n",
        "# Perform transactions on account1\n",
        "account1.display_balance()\n",
        "account1.deposit(200)\n",
        "account1.withdraw(150)\n",
        "account1.display_balance()\n",
        "\n",
        "# Perform transactions on account2\n",
        "account2.display_balance()\n",
        "account2.deposit(300)\n",
        "account2.withdraw(100)\n",
        "account2.display_balance()\n"
      ],
      "metadata": {
        "id": "0TWgtyIeB2Kn",
        "colab": {
          "base_uri": "https://localhost:8080/"
        },
        "outputId": "a35135a3-cd5d-4831-d1a5-2c75c9bd2229"
      },
      "execution_count": 6,
      "outputs": [
        {
          "output_type": "stream",
          "name": "stdout",
          "text": [
            "Account 1234 balance: $500.00\n",
            "Deposited $200.00 into account 1234.\n",
            "Withdrew $150.00 from account 1234.\n",
            "Account 1234 balance: $550.00\n",
            "Account 5678 balance: $0.00\n",
            "Deposited $300.00 into account 5678.\n",
            "Withdrew $100.00 from account 5678.\n",
            "Account 5678 balance: $200.00\n"
          ]
        }
      ]
    },
    {
      "cell_type": "markdown",
      "source": [
        "**5.** Write a Python program that creates a class called 'Shape' with a method to\n",
        "calculate the area. Create two subclasses, 'Circle' and 'Triangle', that inherit from\n",
        "the 'Shape' class and override the area calculation method. Create an instance of\n",
        "the 'Circle' class and calculate its area. Similarly, do the same for the 'Triangle'\n",
        "class."
      ],
      "metadata": {
        "id": "4pokQl79ClQz"
      }
    },
    {
      "cell_type": "code",
      "source": [
        "import math\n",
        "\n",
        "class Shape:\n",
        "    def area(self):\n",
        "        raise NotImplementedError(\"Subclasses must override the area method.\")\n",
        "\n",
        "class Circle(Shape):\n",
        "    def __init__(self, radius):\n",
        "        self.radius = radius\n",
        "\n",
        "    def area(self):\n",
        "        return math.pi * (self.radius ** 2)\n",
        "\n",
        "class Triangle(Shape):\n",
        "    def __init__(self, base, height):\n",
        "        self.base = base\n",
        "        self.height = height\n",
        "\n",
        "    def area(self):\n",
        "        return 0.5 * self.base * self.height\n",
        "\n",
        "\n",
        "# Create an instance of the Circle class and calculate its area\n",
        "circle = Circle(radius=5)\n",
        "print(f\"Area of the circle with radius {circle.radius}: {circle.area():.2f}\")\n",
        "\n",
        "# Create an instance of the Triangle class and calculate its area\n",
        "triangle = Triangle(base=10, height=8)\n",
        "print(f\"Area of the triangle with base {triangle.base} and height {triangle.height}: {triangle.area():.2f}\")\n"
      ],
      "metadata": {
        "id": "B1Q48Es0CsYF",
        "colab": {
          "base_uri": "https://localhost:8080/"
        },
        "outputId": "e453b992-966c-4a2b-c876-2205c51a633e"
      },
      "execution_count": 7,
      "outputs": [
        {
          "output_type": "stream",
          "name": "stdout",
          "text": [
            "Area of the circle with radius 5: 78.54\n",
            "Area of the triangle with base 10 and height 8: 40.00\n"
          ]
        }
      ]
    },
    {
      "cell_type": "markdown",
      "source": [
        "**6.** Write a Python program that creates a class called 'Employee' with properties\n",
        "for name and salary. Include a method to calculate annual salary. Create a\n",
        "subclass called 'Manager' that inherits from the 'Employee' class and adds an\n",
        "additional property for department. Override the annual salary calculation method\n",
        "to include bonuses for managers. Create two instances of the 'Manager' class\n",
        "and calculate their annual salary.\n"
      ],
      "metadata": {
        "id": "l77v027rC4oO"
      }
    },
    {
      "cell_type": "code",
      "source": [
        "class Employee:\n",
        "    def __init__(self, name, salary):\n",
        "        self.__name = name\n",
        "        self.__salary = salary\n",
        "\n",
        "    def calculate_annual_salary(self):\n",
        "        return self.__salary * 12\n",
        "\n",
        "    def get_name(self):\n",
        "        return self.__name\n",
        "\n",
        "\n",
        "class Manager(Employee):\n",
        "    def __init__(self, name, salary, department, bonus):\n",
        "        super().__init__(name, salary)\n",
        "        self.__department = department\n",
        "        self.__bonus = bonus\n",
        "\n",
        "    def calculate_annual_salary(self):\n",
        "        base_annual_salary = super().calculate_annual_salary()\n",
        "        return base_annual_salary + self.__bonus\n",
        "\n",
        "    def get_department(self):\n",
        "        return self.__department\n",
        "\n",
        "\n",
        "# Create instances of the Manager class\n",
        "manager1 = Manager(\"Alice\", 8000, \"Sales\", 15000)\n",
        "manager2 = Manager(\"Bob\", 9000, \"IT\", 20000)\n",
        "\n",
        "# Calculate and display their annual salaries\n",
        "print(f\"Manager: {manager1.get_name()}, Department: {manager1.get_department()}, Annual Salary: ${manager1.calculate_annual_salary():,.2f}\")\n",
        "print(f\"Manager: {manager2.get_name()}, Department: {manager2.get_department()}, Annual Salary: ${manager2.calculate_annual_salary():,.2f}\")\n"
      ],
      "metadata": {
        "id": "KkbdhLeDC8jV",
        "colab": {
          "base_uri": "https://localhost:8080/"
        },
        "outputId": "0c664e1e-3bc7-437b-f7e2-b3a2e4169eae"
      },
      "execution_count": 8,
      "outputs": [
        {
          "output_type": "stream",
          "name": "stdout",
          "text": [
            "Manager: Alice, Department: Sales, Annual Salary: $111,000.00\n",
            "Manager: Bob, Department: IT, Annual Salary: $128,000.00\n"
          ]
        }
      ]
    },
    {
      "cell_type": "markdown",
      "source": [
        "**7.** Write a Python program that creates a class `Book` with properties for title,\n",
        "author, and publication year. Include a method to display book details. Create a\n",
        "subclass called 'Ebook' that inherits from the 'Book' class and includes an\n",
        "additional property for book price. Override the display method to include the\n",
        "book price. Create an instance of the 'Ebook' class and display its details."
      ],
      "metadata": {
        "id": "xXjjlDSdDftZ"
      }
    },
    {
      "cell_type": "code",
      "source": [
        "class Book:\n",
        "    def __init__(self, title, author, publication_year):\n",
        "        self.__title = title\n",
        "        self.__author = author\n",
        "        self.__publication_year = publication_year\n",
        "\n",
        "    def display(self):\n",
        "        return f\"Title: {self.__title}, Author: {self.__author}, Publication Year: {self.__publication_year}\"\n",
        "\n",
        "\n",
        "class Ebook(Book):\n",
        "    def __init__(self, title, author, publication_year, price):\n",
        "        super().__init__(title, author, publication_year)\n",
        "        self.__price = price\n",
        "\n",
        "    def display(self):\n",
        "        book_details = super().display()\n",
        "        return f\"{book_details}, Price: ${self.__price:.2f}\"\n",
        "\n",
        "\n",
        "# Create an instance of the Ebook class\n",
        "ebook = Ebook(\"Python Programming\", \"John Doe\", 2020, 29.99)\n",
        "\n",
        "# Display the details of the ebook\n",
        "print(ebook.display())\n"
      ],
      "metadata": {
        "id": "t7FjLufiDmxV",
        "colab": {
          "base_uri": "https://localhost:8080/"
        },
        "outputId": "be640b13-a6b7-45d4-aa3a-49e0f6d53ea8"
      },
      "execution_count": 9,
      "outputs": [
        {
          "output_type": "stream",
          "name": "stdout",
          "text": [
            "Title: Python Programming, Author: John Doe, Publication Year: 2020, Price: $29.99\n"
          ]
        }
      ]
    },
    {
      "cell_type": "markdown",
      "source": [
        "**8.** Write a Python program that creates a class called 'Animal' with properties for\n",
        "species and sound. Include a method to make the animal's sound. Create a\n",
        "subclass called 'Dog' that inherits from the 'Animal' class and adds an additional\n",
        "property for color. Override the make sound method to include the dog's color.\n",
        "Create an instance of the 'Dog' class and make it make its sound.\n"
      ],
      "metadata": {
        "id": "liSDaGo7DvJ0"
      }
    },
    {
      "cell_type": "code",
      "source": [
        "class Animal:\n",
        "    def __init__(self, species, sound):\n",
        "        self.__species = species\n",
        "        self.__sound = sound\n",
        "\n",
        "    def make_sound(self):\n",
        "        return f\"The {self.__species} goes '{self.__sound}'.\"\n",
        "\n",
        "\n",
        "class Dog(Animal):\n",
        "    def __init__(self, species, sound, color):\n",
        "        super().__init__(species, sound)\n",
        "        self.__color = color\n",
        "\n",
        "    def make_sound(self):\n",
        "        base_sound = super().make_sound()\n",
        "        return f\"{base_sound} It is a {self.__color} dog.\"\n",
        "\n",
        "\n",
        "# Create an instance of the Dog class\n",
        "dog = Dog(\"Dog\", \"Woof\", \"brown\")\n",
        "\n",
        "# Make the dog make its sound\n",
        "print(dog.make_sound())\n"
      ],
      "metadata": {
        "id": "Mzz7x5bhD0sM",
        "colab": {
          "base_uri": "https://localhost:8080/"
        },
        "outputId": "4f6c8cf5-ddd8-4115-edff-848b931fc4a2"
      },
      "execution_count": 10,
      "outputs": [
        {
          "output_type": "stream",
          "name": "stdout",
          "text": [
            "The Dog goes 'Woof'. It is a brown dog.\n"
          ]
        }
      ]
    },
    {
      "cell_type": "markdown",
      "source": [
        "**9.** Write a Python program that creates a class called Bank with properties for\n",
        "bank names and branches. Include methods to add a branch, remove a branch,\n",
        "and display all branches. Create an instance of the Bank class and perform\n",
        "operations to add and remove branches.\n"
      ],
      "metadata": {
        "id": "ZICpKFuyEDHk"
      }
    },
    {
      "cell_type": "code",
      "source": [
        "class Bank:\n",
        "    def __init__(self, name):\n",
        "        self.name = name\n",
        "        self.branches = []\n",
        "\n",
        "    def add_branch(self, branch_name):\n",
        "        if branch_name not in self.branches:\n",
        "            self.branches.append(branch_name)\n",
        "            print(f\"Branch '{branch_name}' added successfully.\")\n",
        "        else:\n",
        "            print(f\"Branch '{branch_name}' already exists.\")\n",
        "\n",
        "    def remove_branch(self, branch_name):\n",
        "        if branch_name in self.branches:\n",
        "            self.branches.remove(branch_name)\n",
        "            print(f\"Branch '{branch_name}' removed successfully.\")\n",
        "        else:\n",
        "            print(f\"Branch '{branch_name}' does not exist.\")\n",
        "\n",
        "    def display_branches(self):\n",
        "        if self.branches:\n",
        "            print(f\"Branches of {self.name}:\")\n",
        "            for branch in self.branches:\n",
        "                print(f\"- {branch}\")\n",
        "        else:\n",
        "            print(f\"No branches available for {self.name}.\")\n",
        "\n",
        "\n",
        "# Create an instance of the Bank class\n",
        "my_bank = Bank(\"My Bank\")\n",
        "\n",
        "# Perform operations\n",
        "my_bank.add_branch(\"abc branch\")\n",
        "my_bank.add_branch(\"xyz Branch\")\n",
        "\n",
        "\n",
        "my_bank.display_branches()\n",
        "\n",
        "my_bank.remove_branch(\"abc Branch\")\n",
        "\n",
        "\n",
        "my_bank.display_branches()\n"
      ],
      "metadata": {
        "id": "lWpqkFYHEGPq",
        "colab": {
          "base_uri": "https://localhost:8080/"
        },
        "outputId": "f7f7c055-41ab-45c9-fead-fa94df2d78fc"
      },
      "execution_count": 11,
      "outputs": [
        {
          "output_type": "stream",
          "name": "stdout",
          "text": [
            "Branch 'abc branch' added successfully.\n",
            "Branch 'xyz Branch' added successfully.\n",
            "Branches of My Bank:\n",
            "- abc branch\n",
            "- xyz Branch\n",
            "Branch 'abc Branch' does not exist.\n",
            "Branches of My Bank:\n",
            "- abc branch\n",
            "- xyz Branch\n"
          ]
        }
      ]
    },
    {
      "cell_type": "markdown",
      "source": [
        "**10.** Write a Python program that creates a class called Product with properties for\n",
        "product ID, name, and price. Include a method to calculate the total price by\n",
        "multiplying the price by the quantity. Create a subclass called\n",
        "PersonalCareProduct that inherits from the Product class and adds an additional\n",
        "property for the warranty period. Override the total price calculation method to\n",
        "include the warranty period. Create an instance of the PersonalCareProduct\n",
        "class and calculate its total price."
      ],
      "metadata": {
        "id": "-HDVkZUEEdSC"
      }
    },
    {
      "cell_type": "code",
      "source": [
        "class Product:\n",
        "    def __init__(self, product_id, name, price):\n",
        "        self.product_id = product_id\n",
        "        self.name = name\n",
        "        self.price = price\n",
        "\n",
        "    def calculate_total_price(self, quantity):\n",
        "        return self.price * quantity\n",
        "\n",
        "\n",
        "class PersonalCareProduct(Product):\n",
        "    def __init__(self, product_id, name, price, warranty_period):\n",
        "        super().__init__(product_id, name, price)\n",
        "        self.warranty_period = warranty_period\n",
        "\n",
        "    def calculate_total_price(self, quantity):\n",
        "        base_total = super().calculate_total_price(quantity)\n",
        "        return f\"Total price: ${base_total:.2f} (includes a warranty period of {self.warranty_period} months)\"\n",
        "\n",
        "\n",
        "# Create an instance of the PersonalCareProduct class\n",
        "personal_care_product = PersonalCareProduct(101, \"Electric Toothbrush\", 49.99, 24)\n",
        "\n",
        "# Calculate the total price for a given quantity\n",
        "quantity = 3\n",
        "print(personal_care_product.calculate_total_price(quantity))\n"
      ],
      "metadata": {
        "id": "VqVcu3QMEhMl",
        "colab": {
          "base_uri": "https://localhost:8080/"
        },
        "outputId": "233aac97-2fe2-402b-e40f-af256d097e17"
      },
      "execution_count": 12,
      "outputs": [
        {
          "output_type": "stream",
          "name": "stdout",
          "text": [
            "Total price: $149.97 (includes a warranty period of 24 months)\n"
          ]
        }
      ]
    },
    {
      "cell_type": "markdown",
      "source": [
        "**11.** Write a Python program that creates a class called BankAccount with\n",
        "properties for account number, account holder name, and balance. Include\n",
        "methods to deposit, withdraw, and transfer money between accounts. Create\n",
        "multiple instances of the BankAccount class and perform operations such as\n",
        "depositing, withdrawing, and transferring money."
      ],
      "metadata": {
        "id": "NktLSsUwIXSs"
      }
    },
    {
      "cell_type": "code",
      "source": [
        "class BankAccount:\n",
        "    def __init__(self, account_number, account_holder_name, balance=0.0):\n",
        "        self.account_number = account_number\n",
        "        self.account_holder_name = account_holder_name\n",
        "        self.balance = balance\n",
        "\n",
        "    def deposit(self, amount):\n",
        "        if amount > 0:\n",
        "            self.balance += amount\n",
        "            print(f\"Deposited ${amount:.2f} to {self.account_holder_name}'s account.\")\n",
        "        else:\n",
        "            print(\"Deposit amount must be positive.\")\n",
        "\n",
        "    def withdraw(self, amount):\n",
        "        if amount > 0:\n",
        "            if self.balance >= amount:\n",
        "                self.balance -= amount\n",
        "                print(f\"Withdrew ${amount:.2f} from {self.account_holder_name}'s account.\")\n",
        "            else:\n",
        "                print(\"Insufficient balance.\")\n",
        "        else:\n",
        "            print(\"Withdrawal amount must be positive.\")\n",
        "\n",
        "    def transfer(self, recipient_account, amount):\n",
        "        if amount > 0:\n",
        "            if self.balance >= amount:\n",
        "                self.balance -= amount\n",
        "                recipient_account.balance += amount\n",
        "                print(\n",
        "                    f\"Transferred ${amount:.2f} from {self.account_holder_name}'s account to {recipient_account.account_holder_name}'s account.\"\n",
        "                )\n",
        "            else:\n",
        "                print(\"Insufficient balance to transfer.\")\n",
        "        else:\n",
        "            print(\"Transfer amount must be positive.\")\n",
        "\n",
        "    def display(self):\n",
        "        \"\"\"\n",
        "        Display account details.\n",
        "        \"\"\"\n",
        "        print(\n",
        "            f\"Account Number: {self.account_number}, Account Holder: {self.account_holder_name}, Balance: ${self.balance:.2f}\"\n",
        "        )\n",
        "\n",
        "\n",
        "# Create instances of the BankAccount class\n",
        "account1 = BankAccount(1001, \"Alice\", 500.0)\n",
        "account2 = BankAccount(1002, \"Bob\", 300.0)\n",
        "\n",
        "# Perform operations\n",
        "account1.deposit(200)\n",
        "account1.display()\n",
        "\n",
        "account2.withdraw(50)\n",
        "account2.display()\n",
        "\n",
        "account1.transfer(account2, 150)\n",
        "account1.display()\n",
        "account2.display()\n"
      ],
      "metadata": {
        "id": "HdiyDFIfId39",
        "colab": {
          "base_uri": "https://localhost:8080/"
        },
        "outputId": "8bca2424-8d25-4009-f85f-96aa268329a5"
      },
      "execution_count": 13,
      "outputs": [
        {
          "output_type": "stream",
          "name": "stdout",
          "text": [
            "Deposited $200.00 to Alice's account.\n",
            "Account Number: 1001, Account Holder: Alice, Balance: $700.00\n",
            "Withdrew $50.00 from Bob's account.\n",
            "Account Number: 1002, Account Holder: Bob, Balance: $250.00\n",
            "Transferred $150.00 from Alice's account to Bob's account.\n",
            "Account Number: 1001, Account Holder: Alice, Balance: $550.00\n",
            "Account Number: 1002, Account Holder: Bob, Balance: $400.00\n"
          ]
        }
      ]
    },
    {
      "cell_type": "markdown",
      "source": [
        "**12.** Write a Python program that creates a class called University with properties\n",
        "for university name and departments. Include methods to add a department,\n",
        "remove a department, and display all departments. Create an instance of the\n",
        "University class and add and remove departments."
      ],
      "metadata": {
        "id": "bciLsLM_J8vR"
      }
    },
    {
      "cell_type": "code",
      "source": [
        "class University:\n",
        "    def __init__(self, university_name):\n",
        "        self.university_name = university_name\n",
        "        self.departments = []\n",
        "\n",
        "    def add_department(self, department_name):\n",
        "        if department_name not in self.departments:\n",
        "            self.departments.append(department_name)\n",
        "            print(f\"Department '{department_name}' added successfully.\")\n",
        "        else:\n",
        "            print(f\"Department '{department_name}' already exists.\")\n",
        "\n",
        "    def remove_department(self, department_name):\n",
        "        if department_name in self.departments:\n",
        "            self.departments.remove(department_name)\n",
        "            print(f\"Department '{department_name}' removed successfully.\")\n",
        "        else:\n",
        "            print(f\"Department '{department_name}' does not exist.\")\n",
        "\n",
        "    def display_departments(self):\n",
        "        if self.departments:\n",
        "            print(f\"Departments in {self.university_name}:\")\n",
        "            for department in self.departments:\n",
        "                print(f\"- {department}\")\n",
        "        else:\n",
        "            print(f\"No departments available in {self.university_name}.\")\n",
        "\n",
        "# Create an instance of the University class\n",
        "university = University(\"Global Tech University\")\n",
        "\n",
        "# Add departments\n",
        "university.add_department(\"Computer Science\")\n",
        "university.add_department(\"Mechanical Engineering\")\n",
        "university.add_department(\"Computer Science\")  # Attempt to add a duplicate\n",
        "\n",
        "# Display departments\n",
        "university.display_departments()\n",
        "\n",
        "# Remove departments\n",
        "university.remove_department(\"Mechanical Engineering\")\n",
        "university.remove_department(\"Civil Engineering\")  # Attempt to remove a non-existent department\n",
        "\n",
        "# Display departments after removal\n",
        "university.display_departments()\n"
      ],
      "metadata": {
        "id": "mb7UDQOOKBRF",
        "colab": {
          "base_uri": "https://localhost:8080/"
        },
        "outputId": "7dc79e59-cd25-4570-f6ed-1c34b213cd48"
      },
      "execution_count": 14,
      "outputs": [
        {
          "output_type": "stream",
          "name": "stdout",
          "text": [
            "Department 'Computer Science' added successfully.\n",
            "Department 'Mechanical Engineering' added successfully.\n",
            "Department 'Computer Science' already exists.\n",
            "Departments in Global Tech University:\n",
            "- Computer Science\n",
            "- Mechanical Engineering\n",
            "Department 'Mechanical Engineering' removed successfully.\n",
            "Department 'Civil Engineering' does not exist.\n",
            "Departments in Global Tech University:\n",
            "- Computer Science\n"
          ]
        }
      ]
    },
    {
      "cell_type": "code",
      "source": [],
      "metadata": {
        "id": "bEpnAo3ZiJT8"
      },
      "execution_count": null,
      "outputs": []
    }
  ]
}