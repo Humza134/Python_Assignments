{
  "nbformat": 4,
  "nbformat_minor": 0,
  "metadata": {
    "colab": {
      "provenance": [],
      "authorship_tag": "ABX9TyPsvuHx+ExqMmsr8GvPbP4R",
      "include_colab_link": true
    },
    "kernelspec": {
      "name": "python3",
      "display_name": "Python 3"
    },
    "language_info": {
      "name": "python"
    }
  },
  "cells": [
    {
      "cell_type": "markdown",
      "metadata": {
        "id": "view-in-github",
        "colab_type": "text"
      },
      "source": [
        "<a href=\"https://colab.research.google.com/github/Humza134/Python_Assignments/blob/main/Loops_Assignment.ipynb\" target=\"_parent\"><img src=\"https://colab.research.google.com/assets/colab-badge.svg\" alt=\"Open In Colab\"/></a>"
      ]
    },
    {
      "cell_type": "markdown",
      "source": [
        "**1.** Write a Python program to print the numbers from 1 to 10 using a for loop."
      ],
      "metadata": {
        "id": "ZPbOjHr3-jOp"
      }
    },
    {
      "cell_type": "code",
      "execution_count": null,
      "metadata": {
        "colab": {
          "base_uri": "https://localhost:8080/"
        },
        "id": "htfatjVp-aI4",
        "outputId": "dbbbe072-2c42-46d7-fc02-53e642021d0d"
      },
      "outputs": [
        {
          "output_type": "stream",
          "name": "stdout",
          "text": [
            "1 2 3 4 5 6 7 8 9 10 "
          ]
        }
      ],
      "source": [
        "for i in range(1,11):\n",
        "  print(i, end = \" \")"
      ]
    },
    {
      "cell_type": "markdown",
      "source": [
        "**2.** Write a Python program to print the numbers from 20 to 1 using a while loop."
      ],
      "metadata": {
        "id": "BYuRtpcI-0qW"
      }
    },
    {
      "cell_type": "code",
      "source": [
        "num = 20\n",
        "while num >= 1:\n",
        "  print(num, end=\" \")\n",
        "  num -= 1"
      ],
      "metadata": {
        "colab": {
          "base_uri": "https://localhost:8080/"
        },
        "id": "ZiFizab5-2ry",
        "outputId": "f1f9e53e-68ef-4fc9-dc8e-bf4985f40bb1"
      },
      "execution_count": null,
      "outputs": [
        {
          "output_type": "stream",
          "name": "stdout",
          "text": [
            "20 19 18 17 16 15 14 13 12 11 10 9 8 7 6 5 4 3 2 1 "
          ]
        }
      ]
    },
    {
      "cell_type": "markdown",
      "source": [
        "**3.** Write a program to print even numbers from 1 to 10."
      ],
      "metadata": {
        "id": "d6XaJ8X4ATPJ"
      }
    },
    {
      "cell_type": "code",
      "source": [
        "for i in range(1, 11):\n",
        "  if i % 2 == 0:\n",
        "    print(i, end=\" \")"
      ],
      "metadata": {
        "colab": {
          "base_uri": "https://localhost:8080/"
        },
        "id": "vDIYj8HQAXWF",
        "outputId": "f58ec7a7-c1e2-4a4d-c865-4aab89aaec69"
      },
      "execution_count": null,
      "outputs": [
        {
          "output_type": "stream",
          "name": "stdout",
          "text": [
            "2 4 6 8 10 "
          ]
        }
      ]
    },
    {
      "cell_type": "markdown",
      "source": [
        "**4.** Write a program that prompts the user to enter a number n and prints all the\n",
        "numbers from 1 to n."
      ],
      "metadata": {
        "id": "IDFdnRaHA7Fw"
      }
    },
    {
      "cell_type": "code",
      "source": [
        "user_input = int(input(\"Enter a number: \"))\n",
        "if user_input >= 1:\n",
        "  for i in range(1, user_input+1):\n",
        "    print(i, end=\" \")"
      ],
      "metadata": {
        "colab": {
          "base_uri": "https://localhost:8080/"
        },
        "id": "lGMQRSCAA8z3",
        "outputId": "548ec589-378b-4dc9-ceb9-ca8fec3e6e25"
      },
      "execution_count": null,
      "outputs": [
        {
          "output_type": "stream",
          "name": "stdout",
          "text": [
            "Enter a number: 1\n",
            "1 "
          ]
        }
      ]
    },
    {
      "cell_type": "markdown",
      "source": [
        "**5.** Write a program that prompts the user to enter a number n, and then prints all the\n",
        "odd numbers between 1 and n."
      ],
      "metadata": {
        "id": "UopKg3vFBmLs"
      }
    },
    {
      "cell_type": "code",
      "source": [
        "user_input = int(input(\"Enter a number: \"))\n",
        "if user_input > 1:\n",
        "  for i in range(1, user_input+1):\n",
        "    if i % 2 != 0:\n",
        "      print(i, end=\" \")"
      ],
      "metadata": {
        "colab": {
          "base_uri": "https://localhost:8080/"
        },
        "id": "apkNZxXFDQUy",
        "outputId": "5d0e71c4-5499-4165-e860-6a6520f7759e"
      },
      "execution_count": null,
      "outputs": [
        {
          "output_type": "stream",
          "name": "stdout",
          "text": [
            "Enter a number: 9\n",
            "1 3 5 7 9 "
          ]
        }
      ]
    },
    {
      "cell_type": "markdown",
      "source": [
        "**6.** Write a program that prints 'Happy Birthday!' five times on screen."
      ],
      "metadata": {
        "id": "VFtXD_zTQmJP"
      }
    },
    {
      "cell_type": "code",
      "source": [
        "num = 1\n",
        "\n",
        "while num <= 5:\n",
        "    print(num)\n",
        "    print(\"Happy birthday\")\n",
        "    num +=1\n",
        "\n",
        "for i in range(1, 6):\n",
        "    print(i, \"Happy Birthday\")"
      ],
      "metadata": {
        "id": "IfY3DbLtQpNk"
      },
      "execution_count": null,
      "outputs": []
    },
    {
      "cell_type": "markdown",
      "source": [
        "**7.** Write a program that takes a number n as input from the user and generates the first\n",
        "n terms of the series formed by squaring the natural numbers.\n",
        "Sample output\n",
        "\n",
        "Enter a number: 6\n",
        "\n",
        "The first 6 terms of the series are:\n",
        "\n",
        "1 4 9 16 25 36"
      ],
      "metadata": {
        "id": "J0uE8oNUQsq6"
      }
    },
    {
      "cell_type": "code",
      "source": [
        "user_input = int(input(\"Enter a number: \"))\n",
        "if user_input >=1:\n",
        "    for i in range(1, user_input+1):\n",
        "        series = i**2\n",
        "        print(series, end=\" \")"
      ],
      "metadata": {
        "id": "oonaGvFkRNiK"
      },
      "execution_count": null,
      "outputs": []
    },
    {
      "cell_type": "markdown",
      "source": [
        "**8.** Write a program that prompts the user to input a number and prints its multiplication\n",
        "table."
      ],
      "metadata": {
        "id": "RoNAImQlSbZ6"
      }
    },
    {
      "cell_type": "code",
      "source": [
        "user_input = int(input(\"Enter a number: \"))\n",
        "if user_input >=1:\n",
        "    for i in range(1, 11):\n",
        "        print(f\"{user_input} * {i} = {user_input * i}\")"
      ],
      "metadata": {
        "id": "xC3LfB9YS8WZ"
      },
      "execution_count": null,
      "outputs": []
    },
    {
      "cell_type": "markdown",
      "source": [
        "**9.** Write a Python program to print the first 8 terms of an arithmetic progression starting\n",
        "with 3 and having a common difference of 4.\n",
        "\n",
        "The program should output the following sequence:\n",
        "\n",
        "3 7 11 15 19 23 27 31"
      ],
      "metadata": {
        "id": "3zvxaC1vT5vC"
      }
    },
    {
      "cell_type": "code",
      "source": [
        "start = 3\n",
        "common_differnece = 4\n",
        "\n",
        "num_of_terms = 8\n",
        "\n",
        "for i in range(num_of_terms):\n",
        "  term = start + (i * common_differnece)\n",
        "  print(term, end=\" \")"
      ],
      "metadata": {
        "colab": {
          "base_uri": "https://localhost:8080/"
        },
        "id": "Keqd3kjqUAmO",
        "outputId": "8eccf8e3-4f15-480f-e1f7-bc63a513053a"
      },
      "execution_count": null,
      "outputs": [
        {
          "output_type": "stream",
          "name": "stdout",
          "text": [
            "3 7 11 15 19 23 27 31 "
          ]
        }
      ]
    },
    {
      "cell_type": "markdown",
      "source": [
        "**10.** Write a Python program to print the first 6 terms of a geometric sequence starting\n",
        "\n",
        "with 2 and having a common ratio of 3.\n",
        "\n",
        "The program should output the following sequence:\n",
        "\n",
        "2 6 18 54 162 486"
      ],
      "metadata": {
        "id": "Jml2ljyCUPFG"
      }
    },
    {
      "cell_type": "code",
      "source": [
        "# Initialize the starting term and common ratio\n",
        "start = 2\n",
        "common_ratio = 3\n",
        "\n",
        "# Set the number of terms to print\n",
        "num_terms = 6\n",
        "\n",
        "# Generate and print the terms of the geometric sequence\n",
        "for i in range(num_terms):\n",
        "    term = start * (common_ratio ** i)\n",
        "    print(term, end=\" \")\n"
      ],
      "metadata": {
        "id": "lBVpVE1PUUfz"
      },
      "execution_count": null,
      "outputs": []
    },
    {
      "cell_type": "markdown",
      "source": [
        "**11.** Write a program that asks the user for a positive integer value. The program should\n",
        "calculate the sum of all the integers from 1 up to the number entered. For example, if\n",
        "the user enters 20, the loop will find the sum of 1, 2, 3, 4, ... 20."
      ],
      "metadata": {
        "id": "KNqm63GHZwCS"
      }
    },
    {
      "cell_type": "code",
      "source": [
        "num = int(input(\"Enter a postive integer value: \"))\n",
        "\n",
        "if num > 0:\n",
        "    total_sum = 0\n",
        "    for i in range(1, num + 1):\n",
        "        total_sum += i\n",
        "    print(f\"The sum of integers from 1 to {num} is: {total_sum}\")\n",
        "else:\n",
        "    print(\"Please enter a postive integer value\")\n",
        "\n",
        "# Ask the user for a positive integer value\n",
        "# num = int(input(\"Enter a positive integer: \"))\n",
        "\n",
        "# # Check if the entered number is positive\n",
        "# if num > 0:\n",
        "#     # Calculate the sum of all integers from 1 to num\n",
        "#     total_sum = sum(range(1, num + 1))\n",
        "#     print(f\"The sum of integers from 1 to {num} is: {total_sum}\")\n",
        "# else:\n",
        "#     print(\"Please enter a positive integer.\")"
      ],
      "metadata": {
        "id": "SzCmIKjIZ2nI"
      },
      "execution_count": null,
      "outputs": []
    },
    {
      "cell_type": "markdown",
      "source": [
        "**12.** write a program that takes a positive integer N as input and calculates the sum of\n",
        "the reciprocals of all numbers from 1 up to N. The program should display the final sum.\n",
        "\n",
        "Output of the program should be like:\n",
        "\n",
        "Enter a positive integer: 5\n",
        "\n",
        "The sum of reciprocals from 1 to 5 is: 2.28"
      ],
      "metadata": {
        "id": "gGKQi57xb0wz"
      }
    },
    {
      "cell_type": "code",
      "source": [
        "N = int(input(\"Enter a positive integer: \"))\n",
        "\n",
        "# Check if the entered number is positive\n",
        "if N > 0:\n",
        "    # Initialize the sum\n",
        "    reciprocal_sum = 0\n",
        "\n",
        "    # Calculate the sum of reciprocals\n",
        "    for i in range(1, N + 1):\n",
        "        reciprocal_sum += 1 / i\n",
        "\n",
        "    # Display the result rounded to 2 decimal places\n",
        "    print(f\"The sum of reciprocals from 1 to {N} is: {reciprocal_sum:.2f}\")\n",
        "else:\n",
        "    print(\"Please enter a positive integer.\")\n"
      ],
      "metadata": {
        "colab": {
          "base_uri": "https://localhost:8080/"
        },
        "id": "f0BgPSsMcC5n",
        "outputId": "b225ac86-a8cb-4e2d-9fab-8344af23f5e5"
      },
      "execution_count": null,
      "outputs": [
        {
          "output_type": "stream",
          "name": "stdout",
          "text": [
            "Enter a positive integer: 5\n",
            "The sum of reciprocals from 1 to 5 is: 2.28\n"
          ]
        }
      ]
    },
    {
      "cell_type": "markdown",
      "source": [
        "**13.** Write a program that prompts the user to enter a number and repeats this process 5\n",
        "times. The program should accumulate the numbers entered and then display the final\n",
        "running total.\n",
        "\n",
        "Sample Output:\n",
        "\n",
        "Enter a number: 10\n",
        "\n",
        "Enter a number: 15\n",
        "\n",
        "Enter a number: 35\n",
        "\n",
        "Enter a number: 40\n",
        "\n",
        "Enter a number: 50\n",
        "\n",
        "The final running total is: 150"
      ],
      "metadata": {
        "id": "rmtBGTcGdvtW"
      }
    },
    {
      "cell_type": "code",
      "source": [
        "final_running_total = 0\n",
        "\n",
        "for i in range(1, 6):\n",
        "    num = int(input(\"Enter a Number: \"))\n",
        "    final_running_total += num\n",
        "\n",
        "print(f\"The final running total is: {final_running_total}\")"
      ],
      "metadata": {
        "id": "ITApgxfNd_j2"
      },
      "execution_count": null,
      "outputs": []
    },
    {
      "cell_type": "markdown",
      "source": [
        "14. Write a program that prompts the user to enter a positive integer and calculates its\n",
        "factorial. The factorial of a positive integer 'n' is denoted as 'n!' and is calculated by\n",
        "multiplying all the integers from 1 to 'n' together. For example, the factorial of 5\n",
        "(denoted as 5!) is calculated as 1 x 2 x 3 x 4 x 5.\n",
        "\n",
        "  The program should display the factorial value if the input is a positive number, or\n",
        "  display a message stating that the factorial does not exist for negative numbers.\n",
        "  Additionally, for an input of zero, the program should output that the factorial of 0 is 1."
      ],
      "metadata": {
        "id": "UHw5a4BketcQ"
      }
    },
    {
      "cell_type": "code",
      "source": [
        "num = int(input(\"Enter a positive integer number: \"))\n",
        "\n",
        "if num < 0:\n",
        "    print(\"The factorial does not exist for negative numbers.\")\n",
        "elif num == 0:\n",
        "    print(\"The factorial of 0 is 1\")\n",
        "else:\n",
        "    factorial = 1\n",
        "    for i in range(1, num + 1):\n",
        "        factorial *= i\n",
        "    print(f\"The factorial of {num} is: {factorial}\")"
      ],
      "metadata": {
        "id": "8QGDt5S2gezI"
      },
      "execution_count": null,
      "outputs": []
    },
    {
      "cell_type": "markdown",
      "source": [
        "**15.** Write a Python program that prompts the user to enter a base number and an\n",
        "exponent, and then calculates the power of the base to the exponent. The program\n",
        "should not use the exponentiation operator (**) or the math.pow() function. The\n",
        "program should handle both positive and negative exponents."
      ],
      "metadata": {
        "id": "Ai-BifOgha8n"
      }
    },
    {
      "cell_type": "code",
      "source": [
        "base = float(input(\"Enter the base number: \"))\n",
        "exponent = int(input(\"Enter the exponent: \"))\n",
        "\n",
        "# Initialize the result to 1\n",
        "result = 1\n",
        "\n",
        "if exponent > 0:\n",
        "    for _ in range(exponent):\n",
        "        result *= base\n",
        "\n",
        "elif exponent < 0:\n",
        "    for _ in range(-exponent):\n",
        "        result *= base\n",
        "    result = 1 / result  # Take reciprocal for negative exponents\n",
        "\n",
        "\n",
        "else:  # exponent == 0\n",
        "    result = 1\n",
        "\n",
        "# Display the result\n",
        "print(f\"{base} raised to the power of {exponent} is: {result}\")\n"
      ],
      "metadata": {
        "colab": {
          "base_uri": "https://localhost:8080/"
        },
        "id": "j0ZKiPRBhlJo",
        "outputId": "077a6a16-e47b-45b7-cba1-8958f591d16e"
      },
      "execution_count": null,
      "outputs": [
        {
          "output_type": "stream",
          "name": "stdout",
          "text": [
            "Enter the base number: 2\n",
            "Enter the exponent: 3\n",
            "2.0 raised to the power of 3 is: 8.0\n"
          ]
        }
      ]
    }
  ]
}