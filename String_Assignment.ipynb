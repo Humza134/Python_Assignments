{
  "nbformat": 4,
  "nbformat_minor": 0,
  "metadata": {
    "colab": {
      "provenance": [],
      "authorship_tag": "ABX9TyNAH7xI17ZKBN5lzAuex67d",
      "include_colab_link": true
    },
    "kernelspec": {
      "name": "python3",
      "display_name": "Python 3"
    },
    "language_info": {
      "name": "python"
    }
  },
  "cells": [
    {
      "cell_type": "markdown",
      "metadata": {
        "id": "view-in-github",
        "colab_type": "text"
      },
      "source": [
        "<a href=\"https://colab.research.google.com/github/Humza134/Python_Assignments/blob/main/String_Assignment.ipynb\" target=\"_parent\"><img src=\"https://colab.research.google.com/assets/colab-badge.svg\" alt=\"Open In Colab\"/></a>"
      ]
    },
    {
      "cell_type": "markdown",
      "source": [
        "**1.** Write a program that accepts a string from user. Your program should count and display number of\n",
        "vowels in that string."
      ],
      "metadata": {
        "id": "rkFOUMXio4lC"
      }
    },
    {
      "cell_type": "code",
      "execution_count": null,
      "metadata": {
        "id": "IjBECw0ZoyqY"
      },
      "outputs": [],
      "source": [
        "user_input = input(\"Enter a string: \")\n",
        "\n",
        "vowel_count = 0\n",
        "\n",
        "vowels = \"aeiouAEIOU\"\n",
        "\n",
        "for char in user_input:\n",
        "    if char in vowels:\n",
        "        vowel_count += 1\n",
        "\n",
        "print(f\"Number of vowels in the string: {vowel_count}\")"
      ]
    },
    {
      "cell_type": "markdown",
      "source": [
        "**2.** Write a program that reads a string from keyboard and display:\n",
        "* The number of uppercase letters in the string\n",
        "* The number of lowercase letters in the string\n",
        "* The number of digits in the string\n",
        "* The number of whitespace characters in the string"
      ],
      "metadata": {
        "id": "o_rPSXLto7yi"
      }
    },
    {
      "cell_type": "code",
      "source": [
        "user_input = input(\"Enter a string: \")\n",
        "uppercase_count = 0\n",
        "lowercase_count = 0\n",
        "digit_count = 0\n",
        "whitespace_count = 0\n",
        "\n",
        "for char in user_input:\n",
        "  if char.isupper():\n",
        "    uppercase_count += 1\n",
        "  elif char.islower():\n",
        "    lowercase_count += 1\n",
        "  elif char.isdigit():\n",
        "    digit_count += 1\n",
        "  elif char.isspace():\n",
        "    whitespace_count += 1\n",
        "print(f\"\"\"\n",
        "    Number of uppercase letters: {uppercase_count}\n",
        "    Number of lowercase letters: {lowercase_count}\n",
        "    Number of digits: {digit_count}\n",
        "    Number of whitespace characters: {whitespace_count}\n",
        "\"\"\")"
      ],
      "metadata": {
        "id": "pzQNie1fo_O0"
      },
      "execution_count": null,
      "outputs": []
    },
    {
      "cell_type": "markdown",
      "source": [
        "**3.** Write a Python program that accepts a string from user. Your program should create and display a\n",
        "new string where the first and last characters have been exchanged."
      ],
      "metadata": {
        "id": "DfHS2a0wpEsM"
      }
    },
    {
      "cell_type": "code",
      "source": [
        "user_input = input(\"Enter a string: \")\n",
        "\n",
        "if len(user_input) >=2:\n",
        "  new_string = user_input[-1] + user_input[1:-1] + user_input[0]\n",
        "  print(f\"New string: {new_string}\")\n",
        "else:\n",
        "  print(\"String must have at least 2 characters.\")"
      ],
      "metadata": {
        "id": "XePgNS4hpISr"
      },
      "execution_count": null,
      "outputs": []
    },
    {
      "cell_type": "markdown",
      "source": [
        "**4.** Write a Python program that accepts a string from user. Your program should create a new string in\n",
        "reverse of first string and display it."
      ],
      "metadata": {
        "id": "a1sCscsopOHN"
      }
    },
    {
      "cell_type": "code",
      "source": [
        "user_input = input(\"Enter a string: \")\n",
        "\n",
        "reversed_string = user_input[::-1]\n",
        "print(f\"Reversed string: {reversed_string}\")"
      ],
      "metadata": {
        "id": "OaBN9XD1pOqI"
      },
      "execution_count": null,
      "outputs": []
    },
    {
      "cell_type": "markdown",
      "source": [
        "**5.** Write a Python program that accepts a string from user. Your program should create a new string by\n",
        "shifting one position to left."
      ],
      "metadata": {
        "id": "9rZ-jDfLpQ4M"
      }
    },
    {
      "cell_type": "code",
      "source": [
        "user_input = input(\"Enter a string: \")\n",
        "\n",
        "new_string = user_input[1:] + user_input[0]\n",
        "print(f\"New string: {new_string}\")"
      ],
      "metadata": {
        "id": "WIkxyaLPpTjT"
      },
      "execution_count": null,
      "outputs": []
    },
    {
      "cell_type": "markdown",
      "source": [
        "**6.** Write a program that asks the user to input his name and print its initials. Assuming that the user\n",
        "always types first name, middle name and last name and does not include any unnecessary spaces."
      ],
      "metadata": {
        "id": "E4k1HuyhpWFe"
      }
    },
    {
      "cell_type": "code",
      "source": [
        "user_name = input(\"Enter your full name: \")\n",
        "\n",
        "initials = user_name[0].upper()\n",
        "for char in user_name:\n",
        "  if char == \" \":\n",
        "    initials += user_name[user_name.index(char) + 1].upper()\n",
        "print(f\"Initials: {initials}\")\n"
      ],
      "metadata": {
        "id": "Xi-M4MGqpYiM"
      },
      "execution_count": null,
      "outputs": []
    },
    {
      "cell_type": "code",
      "source": [
        "full_name = input(\"Enter your full name (First Middle Last): \")\n",
        "\n",
        "# Initialize an empty string for initials\n",
        "initials = full_name[0].upper()  # The first character of the full name is always the first initial\n",
        "\n",
        "# Loop through the full name to find initials\n",
        "for i in range(1, len(full_name)):\n",
        "    if full_name[i] == \" \":  # Check for a space\n",
        "        initials += full_name[i + 1].upper()  # Add the next character (initial) and convert to uppercase\n",
        "\n",
        "# Print the initials\n",
        "print(\"Your initials are:\", initials)"
      ],
      "metadata": {
        "id": "unW3sI_aprAl"
      },
      "execution_count": null,
      "outputs": []
    },
    {
      "cell_type": "markdown",
      "source": [
        "**7.** A palindrome is a string that reads the same backward as forward. For example, the words dad,\n",
        "madam and radar are all palindromes. Write a programs that determines whether the string is a\n",
        "palindrome."
      ],
      "metadata": {
        "id": "H7L4s50kpqNz"
      }
    },
    {
      "cell_type": "code",
      "source": [
        "word = input(\"Enter a word to check if it's a palindrome: \")\n",
        "\n",
        "cleaned_word = word.replace(\" \", \"\").lower()\n",
        "\n",
        "reversed_word = cleaned_word[::-1]\n",
        "\n",
        "if cleaned_word == reversed_word:\n",
        "  print(f\"{word} is a palindrome.\")\n",
        "else:\n",
        "  print(f\"{word} is not a palindrome.\")"
      ],
      "metadata": {
        "id": "S1qgAhbapzBq"
      },
      "execution_count": null,
      "outputs": []
    },
    {
      "cell_type": "markdown",
      "source": [
        "**8.** Write a program that display following output:\n",
        "\n",
        "SHIFT\n",
        "\n",
        "HIFTS\n",
        "\n",
        "IFTSH\n",
        "\n",
        "FTSHI\n",
        "\n",
        "TSHIF\n",
        "\n",
        "SHIFT"
      ],
      "metadata": {
        "id": "tAF1763dpacX"
      }
    },
    {
      "cell_type": "code",
      "source": [
        "user_input = input(\"Enter a string: \").upper()\n",
        "\n",
        "for i in range(len(user_input)):\n",
        "  shifted_string = user_input[i:] + user_input[:i]\n",
        "  print(shifted_string)"
      ],
      "metadata": {
        "id": "sBTIxFNMp2hI"
      },
      "execution_count": null,
      "outputs": []
    },
    {
      "cell_type": "code",
      "source": [
        "word = \"SHIFT\"  # Original string\n",
        "length = len(word)  # Length of the string\n",
        "print(length)\n",
        "# Print shifted versions of the string\n",
        "for i in range(length):\n",
        "    print(i)\n",
        "    print(word[i:])\n",
        "    shifted_word = word[i:] + word[:i]  # Shift characters\n",
        "    print(shifted_word)\n"
      ],
      "metadata": {
        "id": "G3vlx-G4qIKl"
      },
      "execution_count": null,
      "outputs": []
    },
    {
      "cell_type": "markdown",
      "source": [
        "**9.** Write a program in python that accepts a string to setup a passwords. Your entered password must\n",
        "meet the following requirements:\n",
        "\n",
        "The password must be at least eight characters long.\n",
        "\n",
        "It must contain at least one uppercase letter.\n",
        "\n",
        "It must contain at least one lowercase letter.\n",
        "\n",
        "It must contain at least one numeric digit.\n",
        "\n",
        "Your program should should perform this validation."
      ],
      "metadata": {
        "id": "ymHlT6IHqJq_"
      }
    },
    {
      "cell_type": "code",
      "source": [
        "password = input(\"Enter a password: \")\n",
        "\n",
        "has_uppercase = False\n",
        "has_lowercase = False\n",
        "has_digit = False\n",
        "\n",
        "if len(password) >= 8:\n",
        "  for char in password:\n",
        "    if char.isupper():\n",
        "      has_uppercase = True\n",
        "    elif char.islower():\n",
        "      has_lowercase = True\n",
        "    elif char.isdigit():\n",
        "      has_digit = True\n",
        "\n",
        "if has_uppercase and has_lowercase and has_digit:\n",
        "  print(\"Password is valid.\")\n",
        "\n",
        "else:\n",
        "  print(\"Password is invalid.\")"
      ],
      "metadata": {
        "id": "6XgBy3y7qMpR"
      },
      "execution_count": null,
      "outputs": []
    }
  ]
}