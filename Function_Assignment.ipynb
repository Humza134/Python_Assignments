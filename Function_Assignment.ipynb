{
  "nbformat": 4,
  "nbformat_minor": 0,
  "metadata": {
    "colab": {
      "provenance": [],
      "authorship_tag": "ABX9TyPsPHYqot+NKlT8+mv1mpVc",
      "include_colab_link": true
    },
    "kernelspec": {
      "name": "python3",
      "display_name": "Python 3"
    },
    "language_info": {
      "name": "python"
    }
  },
  "cells": [
    {
      "cell_type": "markdown",
      "metadata": {
        "id": "view-in-github",
        "colab_type": "text"
      },
      "source": [
        "<a href=\"https://colab.research.google.com/github/Humza134/Python_Assignments/blob/main/Function_Assignment.ipynb\" target=\"_parent\"><img src=\"https://colab.research.google.com/assets/colab-badge.svg\" alt=\"Open In Colab\"/></a>"
      ]
    },
    {
      "cell_type": "markdown",
      "source": [
        "**1.** Write a Python function to find the maximum of three numbers."
      ],
      "metadata": {
        "id": "-w8x9z4ZgEv4"
      }
    },
    {
      "cell_type": "code",
      "execution_count": null,
      "metadata": {
        "colab": {
          "base_uri": "https://localhost:8080/",
          "height": 35
        },
        "id": "QYjyNVpEf_NI",
        "outputId": "2be2f46e-6f0d-42c6-dee4-9da432450009"
      },
      "outputs": [
        {
          "output_type": "execute_result",
          "data": {
            "text/plain": [
              "'Maximum number 6'"
            ],
            "application/vnd.google.colaboratory.intrinsic+json": {
              "type": "string"
            }
          },
          "metadata": {},
          "execution_count": 9
        }
      ],
      "source": [
        "def find_max(a, b, c):\n",
        "    if a >= b and a >= c:\n",
        "        return f\"Maximum number {a}\"\n",
        "    elif b >= a and b >= c:\n",
        "        return f\"Maximum number {b}\"\n",
        "    else:\n",
        "        return f\"Maximum number {c}\"\n",
        "find_max(4,6,1)"
      ]
    },
    {
      "cell_type": "markdown",
      "source": [
        "**2.** Write a Python function to sum all the numbers in a list.\n",
        "Sample List : (8, 2, 3, 0, 7)\n",
        "Expected Output : 20\n"
      ],
      "metadata": {
        "id": "1IHgU43Vg_-z"
      }
    },
    {
      "cell_type": "code",
      "source": [
        "def sum_list(numbers:list)->int:\n",
        "  sum = 0\n",
        "  for i in numbers:\n",
        "    sum += i\n",
        "  return sum\n",
        "\n",
        "sample_list = [8,2,3,0,7]\n",
        "print(f\"Sum of {sample_list} is {sum_list(sample_list)}\")\n"
      ],
      "metadata": {
        "colab": {
          "base_uri": "https://localhost:8080/"
        },
        "id": "kYaVkDK1gmJo",
        "outputId": "b6334d22-a6a2-4d6d-ff9e-6cef9acc8d5e"
      },
      "execution_count": null,
      "outputs": [
        {
          "output_type": "stream",
          "name": "stdout",
          "text": [
            "Sum of [8, 2, 3, 0, 7] is 20\n"
          ]
        }
      ]
    },
    {
      "cell_type": "markdown",
      "source": [
        "**3.** Write a Python function to multiply all the numbers in a list.\n",
        "Sample List : (8, 2, 3, -1, 7)\n",
        "Expected Output : -336\n"
      ],
      "metadata": {
        "id": "LIVfWmxaiG-V"
      }
    },
    {
      "cell_type": "code",
      "source": [
        "def multiply_list(numbers:list)->int:\n",
        "  multiply = 1\n",
        "  for i in numbers:\n",
        "    multiply *= i\n",
        "  return multiply\n",
        "\n",
        "sample_list = [8,2,3,-1,7]\n",
        "print(f\"Multiply of {sample_list} is {multiply_list(sample_list)}\")"
      ],
      "metadata": {
        "colab": {
          "base_uri": "https://localhost:8080/"
        },
        "id": "1ed-aM0IiOJF",
        "outputId": "2bae9dad-fdc5-49c2-b8c7-ea03a0417bec"
      },
      "execution_count": null,
      "outputs": [
        {
          "output_type": "stream",
          "name": "stdout",
          "text": [
            "Multiply of [8, 2, 3, -1, 7] is -336\n"
          ]
        }
      ]
    },
    {
      "cell_type": "markdown",
      "source": [
        "**4.** Write a Python program to reverse a string.\n",
        "\n",
        "Sample String : \"1234abcd\"\n",
        "\n",
        "Expected Output : \"dcba4321\""
      ],
      "metadata": {
        "id": "HAgg1QKDie74"
      }
    },
    {
      "cell_type": "code",
      "source": [
        "def reverse_string(string:str)->str:\n",
        "  return string[::-1]\n",
        "\n",
        "sample_string = \"1234abcd\"\n",
        "print(f\"Reverse of {sample_string} is {reverse_string(sample_string)}\")"
      ],
      "metadata": {
        "colab": {
          "base_uri": "https://localhost:8080/"
        },
        "id": "OnQ94LwsiwMm",
        "outputId": "1fb8f809-f786-49e3-80de-794fb8d7e8da"
      },
      "execution_count": null,
      "outputs": [
        {
          "output_type": "stream",
          "name": "stdout",
          "text": [
            "Reverse of 1234abcd is dcba4321\n"
          ]
        }
      ]
    },
    {
      "cell_type": "markdown",
      "source": [
        "**5.** Write a Python function to calculate the factorial of a number (a non-negative\n",
        "integer). The function accepts the number as an argument.\n"
      ],
      "metadata": {
        "id": "SliaHkRojjXi"
      }
    },
    {
      "cell_type": "code",
      "source": [
        "def factorial(number:int)->int:\n",
        "  if number < 0:\n",
        "    return \"Factorial of negative number doesn't exist\"\n",
        "  elif number == 0:\n",
        "    return 1\n",
        "  else:\n",
        "    factorial = 1\n",
        "    for i in range(1, number+1):\n",
        "      print(\"i: \", i)\n",
        "      factorial *= i\n",
        "    return factorial\n",
        "\n",
        "  # if number < 0:\n",
        "  #   return \"Factorial of a negative number doesn't exist\"\n",
        "  # elif number == 0:\n",
        "  #   return 1\n",
        "  # else:\n",
        "  #   factorial = 1\n",
        "  #   for i in range(number, 0, -1):  # Start from `number` and go down to `1`\n",
        "  #       print(\"i:\", i)\n",
        "  #       factorial *= i\n",
        "  #   return factorial\n",
        "\n",
        "number = 5\n",
        "print(f\"Factorial of {number} is {factorial(number)}\")"
      ],
      "metadata": {
        "colab": {
          "base_uri": "https://localhost:8080/"
        },
        "id": "DdO_ECjPjwAe",
        "outputId": "2e1d44ea-8c00-4564-a4d2-721fd672b153"
      },
      "execution_count": null,
      "outputs": [
        {
          "output_type": "stream",
          "name": "stdout",
          "text": [
            "i:  1\n",
            "i:  2\n",
            "i:  3\n",
            "i:  4\n",
            "i:  5\n",
            "Factorial of 5 is 120\n"
          ]
        }
      ]
    },
    {
      "cell_type": "markdown",
      "source": [
        "**6.** Write a Python function to check whether a number falls within a given range.\n"
      ],
      "metadata": {
        "id": "JdAfs-35kRs-"
      }
    },
    {
      "cell_type": "code",
      "source": [
        "def check_range(number:int, start:int, end:int)->bool:\n",
        "  if start <= number <= end:\n",
        "    return True\n",
        "  else:\n",
        "    return False\n",
        "check_range(6, 1, 10)"
      ],
      "metadata": {
        "id": "0tzpb0f3m2Cx",
        "colab": {
          "base_uri": "https://localhost:8080/"
        },
        "outputId": "66234930-a2dd-4c6e-cd67-18f113268f91"
      },
      "execution_count": null,
      "outputs": [
        {
          "output_type": "execute_result",
          "data": {
            "text/plain": [
              "True"
            ]
          },
          "metadata": {},
          "execution_count": 12
        }
      ]
    },
    {
      "cell_type": "markdown",
      "source": [
        "**7.** Write a Python function that accepts a string and counts the number of upper\n",
        "and lower case letters.\n",
        "Sample String : 'The quick Brow Fox'\n",
        "Expected Output :\n",
        "\n",
        "No. of Upper case characters : 3\n",
        "\n",
        "No. of Lower case Characters : 12\n"
      ],
      "metadata": {
        "id": "N6hFrOXvz4x1"
      }
    },
    {
      "cell_type": "code",
      "source": [
        "def count_upper_lower(string:str)->tuple:\n",
        "  upper_count = 0\n",
        "  lower_count = 0\n",
        "  for char in string:\n",
        "    if char.isupper():\n",
        "      upper_count += 1\n",
        "    elif char.islower():\n",
        "      lower_count += 1\n",
        "  return upper_count, lower_count\n",
        "count_upper_lower(\"The quick Brow Fox\")"
      ],
      "metadata": {
        "colab": {
          "base_uri": "https://localhost:8080/"
        },
        "id": "_gY5-G1izyLr",
        "outputId": "3a17d848-9eed-4bb3-b204-4a390918ca59"
      },
      "execution_count": null,
      "outputs": [
        {
          "output_type": "execute_result",
          "data": {
            "text/plain": [
              "(3, 12)"
            ]
          },
          "metadata": {},
          "execution_count": 13
        }
      ]
    },
    {
      "cell_type": "markdown",
      "source": [
        "**8.** Write a Python function that takes a list and returns a new list with distinct\n",
        "elements from the first list.\n",
        "\n",
        "Sample List : [1,2,3,3,3,3,4,5]\n",
        "\n",
        "Unique List : [1, 2, 3, 4, 5]"
      ],
      "metadata": {
        "id": "MsqhQxhk1BHi"
      }
    },
    {
      "cell_type": "code",
      "source": [
        "def distinct_list(numbers:list)->list:\n",
        "  # return list(set(numbers))\n",
        "  unique_list = []\n",
        "  for number in numbers:\n",
        "    if number not in unique_list:\n",
        "      unique_list.append(number)\n",
        "  return unique_list\n",
        "\n",
        "sample_list = [1,2,3,3,3,3,4,5]\n",
        "\n",
        "distinct_list(sample_list)"
      ],
      "metadata": {
        "colab": {
          "base_uri": "https://localhost:8080/"
        },
        "id": "PQi3g1SQ1Jgw",
        "outputId": "00b06f23-50c5-488d-c910-7a41b0c6f45c"
      },
      "execution_count": null,
      "outputs": [
        {
          "output_type": "execute_result",
          "data": {
            "text/plain": [
              "[1, 2, 3, 4, 5]"
            ]
          },
          "metadata": {},
          "execution_count": 16
        }
      ]
    },
    {
      "cell_type": "markdown",
      "source": [
        "**9.** Write a Python function that takes a number as a parameter and checks\n",
        "whether the number is prime or not.\n",
        "\n",
        "Note : A prime number (or a prime) is a natural number greater than 1 and that\n",
        "has no positive divisors other than 1 and itself.\n"
      ],
      "metadata": {
        "id": "nFMOtXJh13YN"
      }
    },
    {
      "cell_type": "code",
      "source": [
        "def check_prime(number:int)->bool:\n",
        "  if number < 2:\n",
        "    return False\n",
        "  for i in range(2, int(number**0.5)+1):\n",
        "    if number % i == 0:\n",
        "      return False\n",
        "  return True\n",
        "check_prime(12)"
      ],
      "metadata": {
        "colab": {
          "base_uri": "https://localhost:8080/"
        },
        "id": "w5rKXgHX2C1I",
        "outputId": "da29f990-c7cd-4aa4-9095-74838f4f43e5"
      },
      "execution_count": null,
      "outputs": [
        {
          "output_type": "execute_result",
          "data": {
            "text/plain": [
              "False"
            ]
          },
          "metadata": {},
          "execution_count": 18
        }
      ]
    },
    {
      "cell_type": "markdown",
      "source": [
        "**10.** Write a Python program to print the even numbers from a given list.\n",
        "\n",
        "Sample List : [1, 2, 3, 4, 5, 6, 7, 8, 9]\n",
        "\n",
        "Expected Result : [2, 4, 6, 8]\n"
      ],
      "metadata": {
        "id": "niVPqyCv3WJ8"
      }
    },
    {
      "cell_type": "code",
      "source": [
        "def even_number(numbers:list)->list:\n",
        "  even_numbers = []\n",
        "  for number in numbers:\n",
        "    if number % 2 == 0:\n",
        "      even_numbers.append(number)\n",
        "  return even_numbers\n",
        "\n",
        "sample_list = [1, 2, 3, 4, 5, 6, 7, 8, 9]\n",
        "even_number(sample_list)"
      ],
      "metadata": {
        "colab": {
          "base_uri": "https://localhost:8080/"
        },
        "id": "qYR63pOD3Pp1",
        "outputId": "c564ea01-aaee-4c4c-dd91-33981d3601e5"
      },
      "execution_count": null,
      "outputs": [
        {
          "output_type": "execute_result",
          "data": {
            "text/plain": [
              "[2, 4, 6, 8]"
            ]
          },
          "metadata": {},
          "execution_count": 19
        }
      ]
    },
    {
      "cell_type": "markdown",
      "source": [
        "**11.** Write a Python function to check whether a number is \"Perfect\" or not.\n",
        "According to Wikipedia : In number theory, a perfect number is a positive integer\n",
        "that is equal to the sum of its proper positive divisors, that is, the sum of its\n",
        "positive divisors excluding the number itself (also known as its aliquot sum).\n",
        "Equivalently, a perfect number is a number that is half the sum of all of its\n",
        "positive divisors (including itself).\n",
        "Example : The first perfect number is 6, because 1, 2, and 3 are its proper positive\n",
        "divisors, and 1 + 2 + 3 = 6. Equivalently, the number 6 is equal to half the sum of\n",
        "all its positive divisors: ( 1 + 2 + 3 + 6 ) / 2 = 6. The next perfect number is 28 = 1 +\n",
        "2 + 4 + 7 + 14. This is followed by the perfect numbers 496 and 8128."
      ],
      "metadata": {
        "id": "5XpYS9h43qza"
      }
    },
    {
      "cell_type": "code",
      "source": [
        "def is_perfect_number(number: int) -> bool:\n",
        "    \"\"\"\n",
        "    Check if a number is a perfect number.\n",
        "\n",
        "    Parameters:\n",
        "    number (int): The number to check.\n",
        "\n",
        "    Returns:\n",
        "    bool: True if the number is perfect, False otherwise.\n",
        "    \"\"\"\n",
        "    if number <= 0:  # Perfect numbers must be positive integers\n",
        "        return False\n",
        "\n",
        "    # Find the sum of proper divisors\n",
        "    divisors_sum = sum(i for i in range(1, number) if number % i == 0)\n",
        "\n",
        "    return divisors_sum == number\n",
        "\n",
        "# Example usage:\n",
        "test_numbers = [6, 28, 496, 8128, 12]\n",
        "\n",
        "for num in test_numbers:\n",
        "    if is_perfect_number(num):\n",
        "        print(f\"{num} is a perfect number.\")\n",
        "    else:\n",
        "        print(f\"{num} is not a perfect number.\")\n"
      ],
      "metadata": {
        "colab": {
          "base_uri": "https://localhost:8080/"
        },
        "id": "nskW-rTh6nm6",
        "outputId": "9fd7ef7c-873c-4fa5-a3e7-f63bbda93dee"
      },
      "execution_count": null,
      "outputs": [
        {
          "output_type": "stream",
          "name": "stdout",
          "text": [
            "6 is a perfect number.\n",
            "28 is a perfect number.\n",
            "496 is a perfect number.\n",
            "8128 is a perfect number.\n",
            "12 is not a perfect number.\n"
          ]
        }
      ]
    },
    {
      "cell_type": "code",
      "source": [
        "def is_perfect_number(number: int) -> bool:\n",
        "    \"\"\"\n",
        "    Check if a number is a perfect number.\n",
        "\n",
        "    Parameters:\n",
        "    number (int): The number to check.\n",
        "\n",
        "    Returns:\n",
        "    bool: True if the number is perfect, False otherwise.\n",
        "    \"\"\"\n",
        "    if number <= 0:  # Perfect numbers must be positive integers\n",
        "        return False\n",
        "\n",
        "    # Calculate the sum of proper divisors manually\n",
        "    divisors_sum = 0\n",
        "    for i in range(1, number):  # Iterate from 1 to number - 1\n",
        "        if number % i == 0:  # Check if i is a divisor\n",
        "            divisors_sum += i  # Add the divisor to the sum\n",
        "\n",
        "    return divisors_sum == number\n",
        "\n",
        "# Example usage:\n",
        "test_numbers = [6, 28, 496, 8128, 12]\n",
        "\n",
        "for num in test_numbers:\n",
        "    if is_perfect_number(num):\n",
        "        print(f\"{num} is a perfect number.\")\n",
        "    else:\n",
        "        print(f\"{num} is not a perfect number.\")\n"
      ],
      "metadata": {
        "colab": {
          "base_uri": "https://localhost:8080/"
        },
        "id": "UBT2Swrl6uF1",
        "outputId": "ee52eb49-13b3-4af8-9b2e-1642c2218f21"
      },
      "execution_count": null,
      "outputs": [
        {
          "output_type": "stream",
          "name": "stdout",
          "text": [
            "6 is a perfect number.\n",
            "28 is a perfect number.\n",
            "496 is a perfect number.\n",
            "8128 is a perfect number.\n",
            "12 is not a perfect number.\n"
          ]
        }
      ]
    },
    {
      "cell_type": "markdown",
      "source": [
        "**12.** Write a Python function that checks whether a passed string is a palindrome\n",
        "or not.\n",
        "Note: A palindrome is a word, phrase, or sequence that reads the same backward\n",
        "as forward, e.g., madam or nurses run."
      ],
      "metadata": {
        "id": "phoSoiua6yCJ"
      }
    },
    {
      "cell_type": "code",
      "source": [
        "def is_palindrome(s: str) -> bool:\n",
        "    \"\"\"\n",
        "    Check if a string is a palindrome.\n",
        "\n",
        "    Parameters:\n",
        "    s (str): The string to check.\n",
        "\n",
        "    Returns:\n",
        "    bool: True if the string is a palindrome, False otherwise.\n",
        "    \"\"\"\n",
        "    # Remove spaces and convert to lowercase for uniformity\n",
        "    s = s.replace(\" \", \"\").lower()\n",
        "\n",
        "    # Check if the string reads the same backward as forward\n",
        "    return s == s[::-1]\n",
        "\n",
        "# Example usage:\n",
        "test_strings = [\"madam\", \"nurses run\", \"hello\", \"racecar\"]\n",
        "\n",
        "for string in test_strings:\n",
        "    if is_palindrome(string):\n",
        "        print(f\"'{string}' is a palindrome.\")\n",
        "    else:\n",
        "        print(f\"'{string}' is not a palindrome.\")\n"
      ],
      "metadata": {
        "colab": {
          "base_uri": "https://localhost:8080/"
        },
        "id": "kiByjmlB64lp",
        "outputId": "40c957fd-316e-4794-9ee6-6e80897eb594"
      },
      "execution_count": null,
      "outputs": [
        {
          "output_type": "stream",
          "name": "stdout",
          "text": [
            "'madam' is a palindrome.\n",
            "'nurses run' is a palindrome.\n",
            "'hello' is not a palindrome.\n",
            "'racecar' is a palindrome.\n"
          ]
        }
      ]
    },
    {
      "cell_type": "markdown",
      "source": [
        "**Task1:**\n",
        "\n",
        "You need to write a function in python that return all such numbers which are\n",
        "divisible by 7 but are not a multiple of 5, between 2000 and 3200 (both included).\n",
        "Return the obtained numbers in a comma-separated sequence on a single line."
      ],
      "metadata": {
        "id": "cSBXFUniC_w7"
      }
    },
    {
      "cell_type": "code",
      "source": [
        "def find_special_numbers():\n",
        "  result = []\n",
        "  for i in range(2000, 3201):\n",
        "    if i % 7 == 0 and i % 5 != 0:\n",
        "      result.append(i)\n",
        "  return result\n",
        "\n",
        "numbers = find_special_numbers()\n",
        "print(numbers)\n",
        "\n",
        "# def find_special_numbers():\n",
        "#     result = []\n",
        "#     for num in range(2000, 3201):\n",
        "#         if num % 7 == 0 and num % 5 != 0:\n",
        "#             result.append(str(num))\n",
        "#     return ','.join(result)\n",
        "\n",
        "# # To test the function\n",
        "# numbers = find_special_numbers()\n",
        "# print(numbers)"
      ],
      "metadata": {
        "id": "FFFOtEul7DVN",
        "colab": {
          "base_uri": "https://localhost:8080/"
        },
        "outputId": "85ebd023-3ca1-43f9-845a-23f93d3f491a"
      },
      "execution_count": null,
      "outputs": [
        {
          "output_type": "stream",
          "name": "stdout",
          "text": [
            "[2002, 2009, 2016, 2023, 2037, 2044, 2051, 2058, 2072, 2079, 2086, 2093, 2107, 2114, 2121, 2128, 2142, 2149, 2156, 2163, 2177, 2184, 2191, 2198, 2212, 2219, 2226, 2233, 2247, 2254, 2261, 2268, 2282, 2289, 2296, 2303, 2317, 2324, 2331, 2338, 2352, 2359, 2366, 2373, 2387, 2394, 2401, 2408, 2422, 2429, 2436, 2443, 2457, 2464, 2471, 2478, 2492, 2499, 2506, 2513, 2527, 2534, 2541, 2548, 2562, 2569, 2576, 2583, 2597, 2604, 2611, 2618, 2632, 2639, 2646, 2653, 2667, 2674, 2681, 2688, 2702, 2709, 2716, 2723, 2737, 2744, 2751, 2758, 2772, 2779, 2786, 2793, 2807, 2814, 2821, 2828, 2842, 2849, 2856, 2863, 2877, 2884, 2891, 2898, 2912, 2919, 2926, 2933, 2947, 2954, 2961, 2968, 2982, 2989, 2996, 3003, 3017, 3024, 3031, 3038, 3052, 3059, 3066, 3073, 3087, 3094, 3101, 3108, 3122, 3129, 3136, 3143, 3157, 3164, 3171, 3178, 3192, 3199]\n"
          ]
        }
      ]
    },
    {
      "cell_type": "markdown",
      "source": [
        "**Task2:**\n",
        "\n",
        "You need code a function that calculates and returns the value according to the\n",
        "given formula:\n",
        "\n",
        "P = Square root of [(2 * A * B)/C]\n",
        "\n",
        "Following are the fixed values of A and B:\n",
        "\n",
        "A is 50. B is 30.\n",
        "\n",
        "The values of the literal C should be taken as console input to your program in a comma-separated sequence.\n",
        "\n",
        "Example\n",
        "Let us assume the following comma separated input sequence is given to the\n",
        "program:\n",
        "\n",
        "100,150,180\n",
        "\n",
        "The output of the program should be:\n",
        "\n",
        "18,22,24"
      ],
      "metadata": {
        "id": "0bvB38tuD9r1"
      }
    },
    {
      "cell_type": "code",
      "source": [
        "# import math\n",
        "\n",
        "# def calculate_formula(C_values):\n",
        "#     # Fixed values\n",
        "#     A = 50\n",
        "#     B = 30\n",
        "#     results = []\n",
        "\n",
        "#     # Split the input string into list of numbers\n",
        "#     C_list = C_values.split(',')\n",
        "\n",
        "#     # Calculate for each C value\n",
        "#     for C in C_list:\n",
        "#         # Convert C to float and calculate\n",
        "#         C = float(C)\n",
        "#         P = math.sqrt((2 * A * B) / C)\n",
        "#         # Round to nearest integer\n",
        "#         results.append(str(round(P)))\n",
        "\n",
        "#     return ','.join(results)\n",
        "\n",
        "# # Test the function\n",
        "# input_values = \"100,150,180\"\n",
        "# result = calculate_formula(input_values)\n",
        "# print(result)  # Output: 18,22,24\n",
        "\n",
        "import math\n",
        "\n",
        "def calculate_values():\n",
        "    # Fixed values of A and B\n",
        "    A = 50\n",
        "    B = 30\n",
        "\n",
        "    # Taking comma-separated input for C\n",
        "    input_sequence = input(\"Enter values for C (comma-separated): \")\n",
        "\n",
        "    # Converting input string to a list of integers\n",
        "    C_values = [int(c) for c in input_sequence.split(\",\")]\n",
        "\n",
        "    # Calculating P for each value of C\n",
        "    results = [int(math.sqrt((2 * A * B) / C)) for C in C_values]\n",
        "\n",
        "    # Returning the results as a comma-separated string\n",
        "    print(\",\".join(str(result) for result in results))\n",
        "\n",
        "# Call the function\n",
        "calculate_values()"
      ],
      "metadata": {
        "colab": {
          "base_uri": "https://localhost:8080/"
        },
        "id": "xZnDKwVSEUkg",
        "outputId": "e0d9f6f1-7fcc-4626-c5ca-bd0a8af32d08"
      },
      "execution_count": null,
      "outputs": [
        {
          "output_type": "stream",
          "name": "stdout",
          "text": [
            "Enter values for C (comma-separated): 100,150,180\n",
            "5,4,4\n"
          ]
        }
      ]
    },
    {
      "cell_type": "markdown",
      "source": [
        "**Task3:**\n",
        "You need to write a function that takes a comma separated sequence of words as\n",
        "input and prints the words in a comma-separated sequence after sorting them\n",
        "alphabetically.\n",
        "\n",
        "Suppose the following input is supplied to the program:\n",
        "\n",
        "without,hello,bag,world\n",
        "\n",
        "Then, the output should be:\n",
        "\n",
        "bag,hello,without,world\n"
      ],
      "metadata": {
        "id": "JTDZsLqVqEW3"
      }
    },
    {
      "cell_type": "code",
      "source": [
        "# def sort_words():\n",
        "#     # Taking comma-separated input of words\n",
        "#     input_sequence = input(\"Enter a comma-separated sequence of words: \")\n",
        "\n",
        "#     # Splitting the input into a list of words\n",
        "#     words = input_sequence.split(\",\")\n",
        "\n",
        "#     # Sorting the words alphabetically\n",
        "#     sorted_words = sorted(words)\n",
        "\n",
        "#     # Joining the sorted words into a comma-separated string\n",
        "#     print(\",\".join(sorted_words))\n",
        "\n",
        "# # Call the function\n",
        "# sort_words()\n",
        "\n",
        "def sort_words(input_sequence):\n",
        "    # Splitting the input into a list of words\n",
        "    words = input_sequence.split(\",\")\n",
        "\n",
        "    # Sorting the words alphabetically without using sorted()\n",
        "    for i in range(len(words)):\n",
        "        for j in range(i + 1, len(words)):\n",
        "            if words[i] > words[j]:\n",
        "                words[i], words[j] = words[j], words[i]\n",
        "\n",
        "    # Joining the sorted words into a comma-separated string\n",
        "    return \",\".join(words)\n",
        "\n",
        "# Example usage\n",
        "print(sort_words(\"without,hello,bag,world\"))\n"
      ],
      "metadata": {
        "id": "FKf-Q4UrGUIl",
        "colab": {
          "base_uri": "https://localhost:8080/"
        },
        "outputId": "495772ab-c728-4d89-f85d-dc6828dde015"
      },
      "execution_count": null,
      "outputs": [
        {
          "output_type": "stream",
          "name": "stdout",
          "text": [
            "bag,hello,without,world\n"
          ]
        }
      ]
    },
    {
      "cell_type": "markdown",
      "source": [
        "**Task4:**\n",
        "You need to write a program that takes sequence of lines as input and prints the\n",
        "lines after making all characters in the sentence capitalized.\n",
        "Suppose the following input is supplied to the program:\n",
        "\n",
        "Hello world\n",
        "\n",
        "Practice makes perfect\n",
        "\n",
        "Then, the output should be:\n",
        "\n",
        "HELLO WORLD\n",
        "\n",
        "PRACTICE MAKES PERFECT"
      ],
      "metadata": {
        "id": "nbRyj62M0VkY"
      }
    },
    {
      "cell_type": "code",
      "source": [
        "def capitalize_lines(lines):\n",
        "    # Initialize a list to store capitalized lines\n",
        "    capitalized_lines = []\n",
        "\n",
        "    # Loop through each line in the input\n",
        "    for line in lines:\n",
        "        # Capitalize the line and add it to the list\n",
        "        capitalized_lines.append(line.upper())\n",
        "\n",
        "    # Print each capitalized line\n",
        "    for capitalized_line in capitalized_lines:\n",
        "        print(capitalized_line)\n",
        "\n",
        "# Example usage\n",
        "input_lines = [\"Hello world\", \"Practice makes perfect\"]\n",
        "capitalize_lines(input_lines)\n"
      ],
      "metadata": {
        "colab": {
          "base_uri": "https://localhost:8080/"
        },
        "id": "D8JivAuJ0vcX",
        "outputId": "3595ea07-a31c-4647-b5c9-39c3e5426667"
      },
      "execution_count": null,
      "outputs": [
        {
          "output_type": "stream",
          "name": "stdout",
          "text": [
            "HELLO WORLD\n",
            "PRACTICE MAKES PERFECT\n"
          ]
        }
      ]
    },
    {
      "cell_type": "markdown",
      "source": [
        "**Task5:**\n",
        "You need to write a function that counts the number of vowels in a given\n",
        "sentence as input from console.\n",
        "\n",
        "Suppose the following input is supplied to the program:\n",
        "\n",
        "Hello world\n",
        "\n",
        "Practice makes perfect\n",
        "\n",
        "Then, the output should be:\n",
        "\n",
        "a appeared 2 times\n",
        "\n",
        "e appeared 5 times\n",
        "\n",
        "i appeared 1 time\n",
        "\n",
        "o appeared 2 times\n",
        "\n",
        "u appeared 0 time\n"
      ],
      "metadata": {
        "id": "FC38dG0bP5GX"
      }
    },
    {
      "cell_type": "code",
      "source": [
        "# def count_vowels(sentences):\n",
        "#   vowels = \"aeiou\"\n",
        "#   count = {}\n",
        "#   for sentence in sentences:\n",
        "#     for char in sentence.lower():\n",
        "#       if char in vowels:\n",
        "#         count[char] = count.get(char, 0) + 1\n",
        "#   for vowel, freq in count.items():\n",
        "#     print(f\"{vowel} appeared {freq} times\")\n",
        "\n",
        "\n",
        "# # Example usage\n",
        "# input_sentences = [\"Hello world\", \"Practice makes perfect\"]\n",
        "# count_vowels(input_sentences)\n",
        "\n",
        "def count_vowels(sentence):\n",
        "  vowels = 'aeiou'\n",
        "  count = {v:0 for v in vowels}\n",
        "  print(f\"Cpunt: {count}\")\n",
        "\n",
        "  for char in sentence.lower():\n",
        "    if char in vowels:\n",
        "      count[char] +=1\n",
        "  print(f\"Count: {count}\")\n",
        "\n",
        "  for vowel, freq in count.items():\n",
        "    print(f\"Vowel: {vowel} Freq: {freq}\")\n",
        "    print(f\"{vowel} appeared {freq} time{'s' if freq > 1 else ''}\")\n",
        "sentence = input(\"Enter a sentence: \")\n",
        "count_vowels(sentence)"
      ],
      "metadata": {
        "id": "3CJmGf4y1e__",
        "colab": {
          "base_uri": "https://localhost:8080/"
        },
        "outputId": "44e5b2bc-bd9c-4937-89b1-2c065bc62096"
      },
      "execution_count": null,
      "outputs": [
        {
          "output_type": "stream",
          "name": "stdout",
          "text": [
            "Enter a sentence: Hello world\n",
            "Cpunt: {'a': 0, 'e': 0, 'i': 0, 'o': 0, 'u': 0}\n",
            "Count: {'a': 0, 'e': 1, 'i': 0, 'o': 2, 'u': 0}\n",
            "Vowel: a Freq: 0\n",
            "a appeared 0 time\n",
            "Vowel: e Freq: 1\n",
            "e appeared 1 time\n",
            "Vowel: i Freq: 0\n",
            "i appeared 0 time\n",
            "Vowel: o Freq: 2\n",
            "o appeared 2 times\n",
            "Vowel: u Freq: 0\n",
            "u appeared 0 time\n"
          ]
        }
      ]
    },
    {
      "cell_type": "code",
      "source": [
        "def count_vowels(sentence):\n",
        "    # Define the vowels\n",
        "    vowels = \"aeiou\"\n",
        "\n",
        "    # Initialize a dictionary to count vowels\n",
        "    vowel_counts = {vowel: 0 for vowel in vowels}\n",
        "\n",
        "    # Convert the sentence to lowercase and iterate through each character\n",
        "    for char in sentence.lower():\n",
        "        if char in vowels:\n",
        "            vowel_counts[char] += 1\n",
        "\n",
        "    # Prepare the result as a list of strings\n",
        "    results = [f\"{vowel} appeared {count} time{'s' if count > 1 else ''}\" for vowel, count in vowel_counts.items()]\n",
        "\n",
        "    # Return the results\n",
        "    return \"\\n\".join(results)\n",
        "\n",
        "# Example usage\n",
        "input_sentence = \"Hello world\\nPractice makes perfect\"\n",
        "output = count_vowels(input_sentence)\n",
        "print(output)\n"
      ],
      "metadata": {
        "colab": {
          "base_uri": "https://localhost:8080/"
        },
        "id": "ALGvEJZVaIuX",
        "outputId": "61443614-4b22-45de-8906-17c5c5628342"
      },
      "execution_count": null,
      "outputs": [
        {
          "output_type": "stream",
          "name": "stdout",
          "text": [
            "a appeared 2 times\n",
            "e appeared 5 times\n",
            "i appeared 1 time\n",
            "o appeared 2 times\n",
            "u appeared 0 time\n"
          ]
        }
      ]
    },
    {
      "cell_type": "markdown",
      "source": [
        "**Task6:**\n",
        "\n",
        "You need write a function that traces and makes a list of all such numbers\n",
        "from1000 to 3000 in which all the digits are even numbers."
      ],
      "metadata": {
        "id": "L1NhnGZOgONq"
      }
    },
    {
      "cell_type": "code",
      "source": [
        "def find_even_digit_numbers():\n",
        "    even_digit_numbers = []\n",
        "\n",
        "    # Loop through numbers from 1000 to 3000\n",
        "    for num in range(1000, 3001):\n",
        "        # Convert the number to a string to check each digit\n",
        "        num_str = str(num)\n",
        "\n",
        "        # Check if all digits are even\n",
        "        if all(int(digit) % 2 == 0 for digit in num_str):\n",
        "            even_digit_numbers.append(num)\n",
        "\n",
        "    return even_digit_numbers\n",
        "\n",
        "# Call the function and print the result\n",
        "even_numbers = find_even_digit_numbers()\n",
        "print(even_numbers)"
      ],
      "metadata": {
        "colab": {
          "base_uri": "https://localhost:8080/"
        },
        "id": "JQrdPDiagjEj",
        "outputId": "641aa6c7-de46-4cf6-cbd9-c3e4dfff4599"
      },
      "execution_count": null,
      "outputs": [
        {
          "output_type": "stream",
          "name": "stdout",
          "text": [
            "[2000, 2002, 2004, 2006, 2008, 2020, 2022, 2024, 2026, 2028, 2040, 2042, 2044, 2046, 2048, 2060, 2062, 2064, 2066, 2068, 2080, 2082, 2084, 2086, 2088, 2200, 2202, 2204, 2206, 2208, 2220, 2222, 2224, 2226, 2228, 2240, 2242, 2244, 2246, 2248, 2260, 2262, 2264, 2266, 2268, 2280, 2282, 2284, 2286, 2288, 2400, 2402, 2404, 2406, 2408, 2420, 2422, 2424, 2426, 2428, 2440, 2442, 2444, 2446, 2448, 2460, 2462, 2464, 2466, 2468, 2480, 2482, 2484, 2486, 2488, 2600, 2602, 2604, 2606, 2608, 2620, 2622, 2624, 2626, 2628, 2640, 2642, 2644, 2646, 2648, 2660, 2662, 2664, 2666, 2668, 2680, 2682, 2684, 2686, 2688, 2800, 2802, 2804, 2806, 2808, 2820, 2822, 2824, 2826, 2828, 2840, 2842, 2844, 2846, 2848, 2860, 2862, 2864, 2866, 2868, 2880, 2882, 2884, 2886, 2888]\n"
          ]
        }
      ]
    },
    {
      "cell_type": "markdown",
      "source": [],
      "metadata": {
        "id": "nAvuO4WSh4uc"
      }
    },
    {
      "cell_type": "code",
      "source": [],
      "metadata": {
        "id": "2MvWo2TIhDB_"
      },
      "execution_count": null,
      "outputs": []
    },
    {
      "cell_type": "markdown",
      "source": [
        "**Task8:**\n",
        "\n",
        "Write a program that accepts a sentence and calculate the number of letters and\n",
        "digits.\n",
        "\n",
        "Suppose the following input is supplied to the program:\n",
        "\n",
        "hello world! 123\n",
        "\n",
        "Then, the output should be:\n",
        "\n",
        "LETTERS 10\n",
        "\n",
        "DIGITS 3"
      ],
      "metadata": {
        "id": "znzpqypLiSda"
      }
    },
    {
      "cell_type": "code",
      "source": [
        "def calculate_letters_and_digits(sentence):\n",
        "\n",
        "    letters = 0\n",
        "    digits = 0\n",
        "\n",
        "    for char in sentence:\n",
        "        if char.isalpha():\n",
        "            letters += 1\n",
        "        elif char.isdigit():\n",
        "            digits += 1\n",
        "\n",
        "    return letters, digits\n",
        "\n",
        "sentence = \"hello world! 123\"\n",
        "letters, digits = calculate_letters_and_digits(sentence)\n",
        "print(f\"LETTERS {letters}\")\n",
        "print(f\"DIGITS {digits}\")"
      ],
      "metadata": {
        "colab": {
          "base_uri": "https://localhost:8080/"
        },
        "id": "WhD0cQwViYdZ",
        "outputId": "17a5bf6a-07d5-4434-a3e5-67343002d6ed"
      },
      "execution_count": null,
      "outputs": [
        {
          "output_type": "stream",
          "name": "stdout",
          "text": [
            "LETTERS 10\n",
            "DIGITS 3\n"
          ]
        }
      ]
    }
  ]
}